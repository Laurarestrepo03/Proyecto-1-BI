{
  "cells": [
    {
      "cell_type": "markdown",
      "metadata": {
        "id": "60vaQffzewhF"
      },
      "source": [
        "# **Proyecto 1 Etapa 1 - Analítica de textos**\n",
        "\n",
        "#### Grupo 28\n",
        "\n",
        "#### *Gabriel Dicelis - 201920847*\n",
        "\n",
        "#### *Juan Pablo Martinez - 202012623*\n",
        "\n",
        "#### *Laura Restrepo - 202013289*"
      ]
    },
    {
      "cell_type": "markdown",
      "metadata": {
        "id": "GxGWkZYtAOVd"
      },
      "source": [
        "## Importación de librerías y módulos"
      ]
    },
    {
      "cell_type": "code",
      "execution_count": null,
      "metadata": {
        "id": "vyhWhAcUav5-",
        "colab": {
          "base_uri": "https://localhost:8080/"
        },
        "outputId": "2fcab2dc-f497-4e9a-be35-18ebafdaebe7"
      },
      "outputs": [
        {
          "output_type": "stream",
          "name": "stdout",
          "text": [
            "Collecting contractions\n",
            "  Downloading contractions-0.1.73-py2.py3-none-any.whl (8.7 kB)\n",
            "Collecting textsearch>=0.0.21 (from contractions)\n",
            "  Downloading textsearch-0.0.24-py2.py3-none-any.whl (7.6 kB)\n",
            "Collecting anyascii (from textsearch>=0.0.21->contractions)\n",
            "  Downloading anyascii-0.3.2-py3-none-any.whl (289 kB)\n",
            "\u001b[2K     \u001b[90m━━━━━━━━━━━━━━━━━━━━━━━━━━━━━━━━━━━━━━━━\u001b[0m \u001b[32m289.9/289.9 kB\u001b[0m \u001b[31m5.4 MB/s\u001b[0m eta \u001b[36m0:00:00\u001b[0m\n",
            "\u001b[?25hCollecting pyahocorasick (from textsearch>=0.0.21->contractions)\n",
            "  Downloading pyahocorasick-2.1.0-cp310-cp310-manylinux_2_5_x86_64.manylinux1_x86_64.manylinux_2_12_x86_64.manylinux2010_x86_64.whl (110 kB)\n",
            "\u001b[2K     \u001b[90m━━━━━━━━━━━━━━━━━━━━━━━━━━━━━━━━━━━━━━━━\u001b[0m \u001b[32m110.7/110.7 kB\u001b[0m \u001b[31m6.8 MB/s\u001b[0m eta \u001b[36m0:00:00\u001b[0m\n",
            "\u001b[?25hInstalling collected packages: pyahocorasick, anyascii, textsearch, contractions\n",
            "Successfully installed anyascii-0.3.2 contractions-0.1.73 pyahocorasick-2.1.0 textsearch-0.0.24\n",
            "Collecting langdetect\n",
            "  Downloading langdetect-1.0.9.tar.gz (981 kB)\n",
            "\u001b[2K     \u001b[90m━━━━━━━━━━━━━━━━━━━━━━━━━━━━━━━━━━━━━━━━\u001b[0m \u001b[32m981.5/981.5 kB\u001b[0m \u001b[31m3.8 MB/s\u001b[0m eta \u001b[36m0:00:00\u001b[0m\n",
            "\u001b[?25h  Preparing metadata (setup.py) ... \u001b[?25l\u001b[?25hdone\n",
            "Requirement already satisfied: six in /usr/local/lib/python3.10/dist-packages (from langdetect) (1.16.0)\n",
            "Building wheels for collected packages: langdetect\n",
            "  Building wheel for langdetect (setup.py) ... \u001b[?25l\u001b[?25hdone\n",
            "  Created wheel for langdetect: filename=langdetect-1.0.9-py3-none-any.whl size=993227 sha256=1e62134dff47114b25b938f51b03c7c455ba4951caeb21b76dce313fb683e803\n",
            "  Stored in directory: /root/.cache/pip/wheels/95/03/7d/59ea870c70ce4e5a370638b5462a7711ab78fba2f655d05106\n",
            "Successfully built langdetect\n",
            "Installing collected packages: langdetect\n",
            "Successfully installed langdetect-1.0.9\n",
            "Requirement already satisfied: inflect in /usr/local/lib/python3.10/dist-packages (7.0.0)\n",
            "Requirement already satisfied: pydantic>=1.9.1 in /usr/local/lib/python3.10/dist-packages (from inflect) (2.6.4)\n",
            "Requirement already satisfied: typing-extensions in /usr/local/lib/python3.10/dist-packages (from inflect) (4.10.0)\n",
            "Requirement already satisfied: annotated-types>=0.4.0 in /usr/local/lib/python3.10/dist-packages (from pydantic>=1.9.1->inflect) (0.6.0)\n",
            "Requirement already satisfied: pydantic-core==2.16.3 in /usr/local/lib/python3.10/dist-packages (from pydantic>=1.9.1->inflect) (2.16.3)\n",
            "Collecting scikit-plot\n",
            "  Downloading scikit_plot-0.3.7-py3-none-any.whl (33 kB)\n",
            "Requirement already satisfied: matplotlib>=1.4.0 in /usr/local/lib/python3.10/dist-packages (from scikit-plot) (3.7.1)\n",
            "Requirement already satisfied: scikit-learn>=0.18 in /usr/local/lib/python3.10/dist-packages (from scikit-plot) (1.2.2)\n",
            "Requirement already satisfied: scipy>=0.9 in /usr/local/lib/python3.10/dist-packages (from scikit-plot) (1.11.4)\n",
            "Requirement already satisfied: joblib>=0.10 in /usr/local/lib/python3.10/dist-packages (from scikit-plot) (1.3.2)\n",
            "Requirement already satisfied: contourpy>=1.0.1 in /usr/local/lib/python3.10/dist-packages (from matplotlib>=1.4.0->scikit-plot) (1.2.0)\n",
            "Requirement already satisfied: cycler>=0.10 in /usr/local/lib/python3.10/dist-packages (from matplotlib>=1.4.0->scikit-plot) (0.12.1)\n",
            "Requirement already satisfied: fonttools>=4.22.0 in /usr/local/lib/python3.10/dist-packages (from matplotlib>=1.4.0->scikit-plot) (4.50.0)\n",
            "Requirement already satisfied: kiwisolver>=1.0.1 in /usr/local/lib/python3.10/dist-packages (from matplotlib>=1.4.0->scikit-plot) (1.4.5)\n",
            "Requirement already satisfied: numpy>=1.20 in /usr/local/lib/python3.10/dist-packages (from matplotlib>=1.4.0->scikit-plot) (1.25.2)\n",
            "Requirement already satisfied: packaging>=20.0 in /usr/local/lib/python3.10/dist-packages (from matplotlib>=1.4.0->scikit-plot) (24.0)\n",
            "Requirement already satisfied: pillow>=6.2.0 in /usr/local/lib/python3.10/dist-packages (from matplotlib>=1.4.0->scikit-plot) (9.4.0)\n",
            "Requirement already satisfied: pyparsing>=2.3.1 in /usr/local/lib/python3.10/dist-packages (from matplotlib>=1.4.0->scikit-plot) (3.1.2)\n",
            "Requirement already satisfied: python-dateutil>=2.7 in /usr/local/lib/python3.10/dist-packages (from matplotlib>=1.4.0->scikit-plot) (2.8.2)\n",
            "Requirement already satisfied: threadpoolctl>=2.0.0 in /usr/local/lib/python3.10/dist-packages (from scikit-learn>=0.18->scikit-plot) (3.4.0)\n",
            "Requirement already satisfied: six>=1.5 in /usr/local/lib/python3.10/dist-packages (from python-dateutil>=2.7->matplotlib>=1.4.0->scikit-plot) (1.16.0)\n",
            "Installing collected packages: scikit-plot\n",
            "Successfully installed scikit-plot-0.3.7\n",
            "Collecting es-core-news-sm==3.7.0\n",
            "  Downloading https://github.com/explosion/spacy-models/releases/download/es_core_news_sm-3.7.0/es_core_news_sm-3.7.0-py3-none-any.whl (12.9 MB)\n",
            "\u001b[2K     \u001b[90m━━━━━━━━━━━━━━━━━━━━━━━━━━━━━━━━━━━━━━━━\u001b[0m \u001b[32m12.9/12.9 MB\u001b[0m \u001b[31m27.2 MB/s\u001b[0m eta \u001b[36m0:00:00\u001b[0m\n",
            "\u001b[?25hRequirement already satisfied: spacy<3.8.0,>=3.7.0 in /usr/local/lib/python3.10/dist-packages (from es-core-news-sm==3.7.0) (3.7.4)\n",
            "Requirement already satisfied: spacy-legacy<3.1.0,>=3.0.11 in /usr/local/lib/python3.10/dist-packages (from spacy<3.8.0,>=3.7.0->es-core-news-sm==3.7.0) (3.0.12)\n",
            "Requirement already satisfied: spacy-loggers<2.0.0,>=1.0.0 in /usr/local/lib/python3.10/dist-packages (from spacy<3.8.0,>=3.7.0->es-core-news-sm==3.7.0) (1.0.5)\n",
            "Requirement already satisfied: murmurhash<1.1.0,>=0.28.0 in /usr/local/lib/python3.10/dist-packages (from spacy<3.8.0,>=3.7.0->es-core-news-sm==3.7.0) (1.0.10)\n",
            "Requirement already satisfied: cymem<2.1.0,>=2.0.2 in /usr/local/lib/python3.10/dist-packages (from spacy<3.8.0,>=3.7.0->es-core-news-sm==3.7.0) (2.0.8)\n",
            "Requirement already satisfied: preshed<3.1.0,>=3.0.2 in /usr/local/lib/python3.10/dist-packages (from spacy<3.8.0,>=3.7.0->es-core-news-sm==3.7.0) (3.0.9)\n",
            "Requirement already satisfied: thinc<8.3.0,>=8.2.2 in /usr/local/lib/python3.10/dist-packages (from spacy<3.8.0,>=3.7.0->es-core-news-sm==3.7.0) (8.2.3)\n",
            "Requirement already satisfied: wasabi<1.2.0,>=0.9.1 in /usr/local/lib/python3.10/dist-packages (from spacy<3.8.0,>=3.7.0->es-core-news-sm==3.7.0) (1.1.2)\n",
            "Requirement already satisfied: srsly<3.0.0,>=2.4.3 in /usr/local/lib/python3.10/dist-packages (from spacy<3.8.0,>=3.7.0->es-core-news-sm==3.7.0) (2.4.8)\n",
            "Requirement already satisfied: catalogue<2.1.0,>=2.0.6 in /usr/local/lib/python3.10/dist-packages (from spacy<3.8.0,>=3.7.0->es-core-news-sm==3.7.0) (2.0.10)\n",
            "Requirement already satisfied: weasel<0.4.0,>=0.1.0 in /usr/local/lib/python3.10/dist-packages (from spacy<3.8.0,>=3.7.0->es-core-news-sm==3.7.0) (0.3.4)\n",
            "Requirement already satisfied: typer<0.10.0,>=0.3.0 in /usr/local/lib/python3.10/dist-packages (from spacy<3.8.0,>=3.7.0->es-core-news-sm==3.7.0) (0.9.4)\n",
            "Requirement already satisfied: smart-open<7.0.0,>=5.2.1 in /usr/local/lib/python3.10/dist-packages (from spacy<3.8.0,>=3.7.0->es-core-news-sm==3.7.0) (6.4.0)\n",
            "Requirement already satisfied: tqdm<5.0.0,>=4.38.0 in /usr/local/lib/python3.10/dist-packages (from spacy<3.8.0,>=3.7.0->es-core-news-sm==3.7.0) (4.66.2)\n",
            "Requirement already satisfied: requests<3.0.0,>=2.13.0 in /usr/local/lib/python3.10/dist-packages (from spacy<3.8.0,>=3.7.0->es-core-news-sm==3.7.0) (2.31.0)\n",
            "Requirement already satisfied: pydantic!=1.8,!=1.8.1,<3.0.0,>=1.7.4 in /usr/local/lib/python3.10/dist-packages (from spacy<3.8.0,>=3.7.0->es-core-news-sm==3.7.0) (2.6.4)\n",
            "Requirement already satisfied: jinja2 in /usr/local/lib/python3.10/dist-packages (from spacy<3.8.0,>=3.7.0->es-core-news-sm==3.7.0) (3.1.3)\n",
            "Requirement already satisfied: setuptools in /usr/local/lib/python3.10/dist-packages (from spacy<3.8.0,>=3.7.0->es-core-news-sm==3.7.0) (67.7.2)\n",
            "Requirement already satisfied: packaging>=20.0 in /usr/local/lib/python3.10/dist-packages (from spacy<3.8.0,>=3.7.0->es-core-news-sm==3.7.0) (24.0)\n",
            "Requirement already satisfied: langcodes<4.0.0,>=3.2.0 in /usr/local/lib/python3.10/dist-packages (from spacy<3.8.0,>=3.7.0->es-core-news-sm==3.7.0) (3.3.0)\n",
            "Requirement already satisfied: numpy>=1.19.0 in /usr/local/lib/python3.10/dist-packages (from spacy<3.8.0,>=3.7.0->es-core-news-sm==3.7.0) (1.25.2)\n",
            "Requirement already satisfied: annotated-types>=0.4.0 in /usr/local/lib/python3.10/dist-packages (from pydantic!=1.8,!=1.8.1,<3.0.0,>=1.7.4->spacy<3.8.0,>=3.7.0->es-core-news-sm==3.7.0) (0.6.0)\n",
            "Requirement already satisfied: pydantic-core==2.16.3 in /usr/local/lib/python3.10/dist-packages (from pydantic!=1.8,!=1.8.1,<3.0.0,>=1.7.4->spacy<3.8.0,>=3.7.0->es-core-news-sm==3.7.0) (2.16.3)\n",
            "Requirement already satisfied: typing-extensions>=4.6.1 in /usr/local/lib/python3.10/dist-packages (from pydantic!=1.8,!=1.8.1,<3.0.0,>=1.7.4->spacy<3.8.0,>=3.7.0->es-core-news-sm==3.7.0) (4.10.0)\n",
            "Requirement already satisfied: charset-normalizer<4,>=2 in /usr/local/lib/python3.10/dist-packages (from requests<3.0.0,>=2.13.0->spacy<3.8.0,>=3.7.0->es-core-news-sm==3.7.0) (3.3.2)\n",
            "Requirement already satisfied: idna<4,>=2.5 in /usr/local/lib/python3.10/dist-packages (from requests<3.0.0,>=2.13.0->spacy<3.8.0,>=3.7.0->es-core-news-sm==3.7.0) (3.6)\n",
            "Requirement already satisfied: urllib3<3,>=1.21.1 in /usr/local/lib/python3.10/dist-packages (from requests<3.0.0,>=2.13.0->spacy<3.8.0,>=3.7.0->es-core-news-sm==3.7.0) (2.0.7)\n",
            "Requirement already satisfied: certifi>=2017.4.17 in /usr/local/lib/python3.10/dist-packages (from requests<3.0.0,>=2.13.0->spacy<3.8.0,>=3.7.0->es-core-news-sm==3.7.0) (2024.2.2)\n",
            "Requirement already satisfied: blis<0.8.0,>=0.7.8 in /usr/local/lib/python3.10/dist-packages (from thinc<8.3.0,>=8.2.2->spacy<3.8.0,>=3.7.0->es-core-news-sm==3.7.0) (0.7.11)\n",
            "Requirement already satisfied: confection<1.0.0,>=0.0.1 in /usr/local/lib/python3.10/dist-packages (from thinc<8.3.0,>=8.2.2->spacy<3.8.0,>=3.7.0->es-core-news-sm==3.7.0) (0.1.4)\n",
            "Requirement already satisfied: click<9.0.0,>=7.1.1 in /usr/local/lib/python3.10/dist-packages (from typer<0.10.0,>=0.3.0->spacy<3.8.0,>=3.7.0->es-core-news-sm==3.7.0) (8.1.7)\n",
            "Requirement already satisfied: cloudpathlib<0.17.0,>=0.7.0 in /usr/local/lib/python3.10/dist-packages (from weasel<0.4.0,>=0.1.0->spacy<3.8.0,>=3.7.0->es-core-news-sm==3.7.0) (0.16.0)\n",
            "Requirement already satisfied: MarkupSafe>=2.0 in /usr/local/lib/python3.10/dist-packages (from jinja2->spacy<3.8.0,>=3.7.0->es-core-news-sm==3.7.0) (2.1.5)\n",
            "Installing collected packages: es-core-news-sm\n",
            "Successfully installed es-core-news-sm-3.7.0\n",
            "\u001b[38;5;2m✔ Download and installation successful\u001b[0m\n",
            "You can now load the package via spacy.load('es_core_news_sm')\n",
            "\u001b[38;5;3m⚠ Restart to reload dependencies\u001b[0m\n",
            "If you are in a Jupyter or Colab notebook, you may need to restart Python in\n",
            "order to load all the package's dependencies. You can do this by selecting the\n",
            "'Restart kernel' or 'Restart runtime' option.\n"
          ]
        },
        {
          "output_type": "stream",
          "name": "stderr",
          "text": [
            "[nltk_data] Downloading package punkt to /root/nltk_data...\n",
            "[nltk_data]   Unzipping tokenizers/punkt.zip.\n",
            "[nltk_data] Downloading package stopwords to /root/nltk_data...\n",
            "[nltk_data]   Unzipping corpora/stopwords.zip.\n",
            "[nltk_data] Error loading stopwords-es: Package 'stopwords-es' not\n",
            "[nltk_data]     found in index\n",
            "[nltk_data] Downloading package wordnet to /root/nltk_data...\n"
          ]
        },
        {
          "output_type": "stream",
          "name": "stdout",
          "text": [
            "Collecting pandas-profiling\n",
            "  Downloading pandas_profiling-3.6.6-py2.py3-none-any.whl (324 kB)\n",
            "\u001b[2K     \u001b[90m━━━━━━━━━━━━━━━━━━━━━━━━━━━━━━━━━━━━━━━━\u001b[0m \u001b[32m324.4/324.4 kB\u001b[0m \u001b[31m5.5 MB/s\u001b[0m eta \u001b[36m0:00:00\u001b[0m\n",
            "\u001b[?25hCollecting ydata-profiling (from pandas-profiling)\n",
            "  Downloading ydata_profiling-4.7.0-py2.py3-none-any.whl (357 kB)\n",
            "\u001b[2K     \u001b[90m━━━━━━━━━━━━━━━━━━━━━━━━━━━━━━━━━━━━━━━━\u001b[0m \u001b[32m357.9/357.9 kB\u001b[0m \u001b[31m9.5 MB/s\u001b[0m eta \u001b[36m0:00:00\u001b[0m\n",
            "\u001b[?25hRequirement already satisfied: scipy<1.12,>=1.4.1 in /usr/local/lib/python3.10/dist-packages (from ydata-profiling->pandas-profiling) (1.11.4)\n",
            "Requirement already satisfied: pandas!=1.4.0,<3,>1.1 in /usr/local/lib/python3.10/dist-packages (from ydata-profiling->pandas-profiling) (2.0.3)\n",
            "Requirement already satisfied: matplotlib<3.9,>=3.2 in /usr/local/lib/python3.10/dist-packages (from ydata-profiling->pandas-profiling) (3.7.1)\n",
            "Requirement already satisfied: pydantic>=2 in /usr/local/lib/python3.10/dist-packages (from ydata-profiling->pandas-profiling) (2.6.4)\n",
            "Requirement already satisfied: PyYAML<6.1,>=5.0.0 in /usr/local/lib/python3.10/dist-packages (from ydata-profiling->pandas-profiling) (6.0.1)\n",
            "Requirement already satisfied: jinja2<3.2,>=2.11.1 in /usr/local/lib/python3.10/dist-packages (from ydata-profiling->pandas-profiling) (3.1.3)\n",
            "Collecting visions[type_image_path]<0.7.7,>=0.7.5 (from ydata-profiling->pandas-profiling)\n",
            "  Downloading visions-0.7.6-py3-none-any.whl (104 kB)\n",
            "\u001b[2K     \u001b[90m━━━━━━━━━━━━━━━━━━━━━━━━━━━━━━━━━━━━━━━━\u001b[0m \u001b[32m104.8/104.8 kB\u001b[0m \u001b[31m13.6 MB/s\u001b[0m eta \u001b[36m0:00:00\u001b[0m\n",
            "\u001b[?25hRequirement already satisfied: numpy<2,>=1.16.0 in /usr/local/lib/python3.10/dist-packages (from ydata-profiling->pandas-profiling) (1.25.2)\n",
            "Collecting htmlmin==0.1.12 (from ydata-profiling->pandas-profiling)\n",
            "  Downloading htmlmin-0.1.12.tar.gz (19 kB)\n",
            "  Preparing metadata (setup.py) ... \u001b[?25l\u001b[?25hdone\n",
            "Collecting phik<0.13,>=0.11.1 (from ydata-profiling->pandas-profiling)\n",
            "  Downloading phik-0.12.4-cp310-cp310-manylinux_2_17_x86_64.manylinux2014_x86_64.whl (686 kB)\n",
            "\u001b[2K     \u001b[90m━━━━━━━━━━━━━━━━━━━━━━━━━━━━━━━━━━━━━━━━\u001b[0m \u001b[32m686.1/686.1 kB\u001b[0m \u001b[31m10.8 MB/s\u001b[0m eta \u001b[36m0:00:00\u001b[0m\n",
            "\u001b[?25hRequirement already satisfied: requests<3,>=2.24.0 in /usr/local/lib/python3.10/dist-packages (from ydata-profiling->pandas-profiling) (2.31.0)\n",
            "Requirement already satisfied: tqdm<5,>=4.48.2 in /usr/local/lib/python3.10/dist-packages (from ydata-profiling->pandas-profiling) (4.66.2)\n",
            "Collecting seaborn<0.13,>=0.10.1 (from ydata-profiling->pandas-profiling)\n",
            "  Downloading seaborn-0.12.2-py3-none-any.whl (293 kB)\n",
            "\u001b[2K     \u001b[90m━━━━━━━━━━━━━━━━━━━━━━━━━━━━━━━━━━━━━━━━\u001b[0m \u001b[32m293.3/293.3 kB\u001b[0m \u001b[31m12.3 MB/s\u001b[0m eta \u001b[36m0:00:00\u001b[0m\n",
            "\u001b[?25hCollecting multimethod<2,>=1.4 (from ydata-profiling->pandas-profiling)\n",
            "  Downloading multimethod-1.11.2-py3-none-any.whl (10 kB)\n",
            "Requirement already satisfied: statsmodels<1,>=0.13.2 in /usr/local/lib/python3.10/dist-packages (from ydata-profiling->pandas-profiling) (0.14.1)\n",
            "Collecting typeguard<5,>=4.1.2 (from ydata-profiling->pandas-profiling)\n",
            "  Downloading typeguard-4.2.1-py3-none-any.whl (34 kB)\n",
            "Collecting imagehash==4.3.1 (from ydata-profiling->pandas-profiling)\n",
            "  Downloading ImageHash-4.3.1-py2.py3-none-any.whl (296 kB)\n",
            "\u001b[2K     \u001b[90m━━━━━━━━━━━━━━━━━━━━━━━━━━━━━━━━━━━━━━━━\u001b[0m \u001b[32m296.5/296.5 kB\u001b[0m \u001b[31m12.6 MB/s\u001b[0m eta \u001b[36m0:00:00\u001b[0m\n",
            "\u001b[?25hRequirement already satisfied: wordcloud>=1.9.1 in /usr/local/lib/python3.10/dist-packages (from ydata-profiling->pandas-profiling) (1.9.3)\n",
            "Collecting dacite>=1.8 (from ydata-profiling->pandas-profiling)\n",
            "  Downloading dacite-1.8.1-py3-none-any.whl (14 kB)\n",
            "Requirement already satisfied: numba<1,>=0.56.0 in /usr/local/lib/python3.10/dist-packages (from ydata-profiling->pandas-profiling) (0.58.1)\n",
            "Requirement already satisfied: PyWavelets in /usr/local/lib/python3.10/dist-packages (from imagehash==4.3.1->ydata-profiling->pandas-profiling) (1.6.0)\n",
            "Requirement already satisfied: pillow in /usr/local/lib/python3.10/dist-packages (from imagehash==4.3.1->ydata-profiling->pandas-profiling) (9.4.0)\n",
            "Requirement already satisfied: MarkupSafe>=2.0 in /usr/local/lib/python3.10/dist-packages (from jinja2<3.2,>=2.11.1->ydata-profiling->pandas-profiling) (2.1.5)\n",
            "Requirement already satisfied: contourpy>=1.0.1 in /usr/local/lib/python3.10/dist-packages (from matplotlib<3.9,>=3.2->ydata-profiling->pandas-profiling) (1.2.0)\n",
            "Requirement already satisfied: cycler>=0.10 in /usr/local/lib/python3.10/dist-packages (from matplotlib<3.9,>=3.2->ydata-profiling->pandas-profiling) (0.12.1)\n",
            "Requirement already satisfied: fonttools>=4.22.0 in /usr/local/lib/python3.10/dist-packages (from matplotlib<3.9,>=3.2->ydata-profiling->pandas-profiling) (4.50.0)\n",
            "Requirement already satisfied: kiwisolver>=1.0.1 in /usr/local/lib/python3.10/dist-packages (from matplotlib<3.9,>=3.2->ydata-profiling->pandas-profiling) (1.4.5)\n",
            "Requirement already satisfied: packaging>=20.0 in /usr/local/lib/python3.10/dist-packages (from matplotlib<3.9,>=3.2->ydata-profiling->pandas-profiling) (24.0)\n",
            "Requirement already satisfied: pyparsing>=2.3.1 in /usr/local/lib/python3.10/dist-packages (from matplotlib<3.9,>=3.2->ydata-profiling->pandas-profiling) (3.1.2)\n",
            "Requirement already satisfied: python-dateutil>=2.7 in /usr/local/lib/python3.10/dist-packages (from matplotlib<3.9,>=3.2->ydata-profiling->pandas-profiling) (2.8.2)\n",
            "Requirement already satisfied: llvmlite<0.42,>=0.41.0dev0 in /usr/local/lib/python3.10/dist-packages (from numba<1,>=0.56.0->ydata-profiling->pandas-profiling) (0.41.1)\n",
            "Requirement already satisfied: pytz>=2020.1 in /usr/local/lib/python3.10/dist-packages (from pandas!=1.4.0,<3,>1.1->ydata-profiling->pandas-profiling) (2023.4)\n",
            "Requirement already satisfied: tzdata>=2022.1 in /usr/local/lib/python3.10/dist-packages (from pandas!=1.4.0,<3,>1.1->ydata-profiling->pandas-profiling) (2024.1)\n",
            "Requirement already satisfied: joblib>=0.14.1 in /usr/local/lib/python3.10/dist-packages (from phik<0.13,>=0.11.1->ydata-profiling->pandas-profiling) (1.3.2)\n",
            "Requirement already satisfied: annotated-types>=0.4.0 in /usr/local/lib/python3.10/dist-packages (from pydantic>=2->ydata-profiling->pandas-profiling) (0.6.0)\n",
            "Requirement already satisfied: pydantic-core==2.16.3 in /usr/local/lib/python3.10/dist-packages (from pydantic>=2->ydata-profiling->pandas-profiling) (2.16.3)\n",
            "Requirement already satisfied: typing-extensions>=4.6.1 in /usr/local/lib/python3.10/dist-packages (from pydantic>=2->ydata-profiling->pandas-profiling) (4.10.0)\n",
            "Requirement already satisfied: charset-normalizer<4,>=2 in /usr/local/lib/python3.10/dist-packages (from requests<3,>=2.24.0->ydata-profiling->pandas-profiling) (3.3.2)\n",
            "Requirement already satisfied: idna<4,>=2.5 in /usr/local/lib/python3.10/dist-packages (from requests<3,>=2.24.0->ydata-profiling->pandas-profiling) (3.6)\n",
            "Requirement already satisfied: urllib3<3,>=1.21.1 in /usr/local/lib/python3.10/dist-packages (from requests<3,>=2.24.0->ydata-profiling->pandas-profiling) (2.0.7)\n",
            "Requirement already satisfied: certifi>=2017.4.17 in /usr/local/lib/python3.10/dist-packages (from requests<3,>=2.24.0->ydata-profiling->pandas-profiling) (2024.2.2)\n",
            "Requirement already satisfied: patsy>=0.5.4 in /usr/local/lib/python3.10/dist-packages (from statsmodels<1,>=0.13.2->ydata-profiling->pandas-profiling) (0.5.6)\n",
            "Requirement already satisfied: attrs>=19.3.0 in /usr/local/lib/python3.10/dist-packages (from visions[type_image_path]<0.7.7,>=0.7.5->ydata-profiling->pandas-profiling) (23.2.0)\n",
            "Requirement already satisfied: networkx>=2.4 in /usr/local/lib/python3.10/dist-packages (from visions[type_image_path]<0.7.7,>=0.7.5->ydata-profiling->pandas-profiling) (3.2.1)\n",
            "Requirement already satisfied: six in /usr/local/lib/python3.10/dist-packages (from patsy>=0.5.4->statsmodels<1,>=0.13.2->ydata-profiling->pandas-profiling) (1.16.0)\n",
            "Building wheels for collected packages: htmlmin\n",
            "  Building wheel for htmlmin (setup.py) ... \u001b[?25l\u001b[?25hdone\n",
            "  Created wheel for htmlmin: filename=htmlmin-0.1.12-py3-none-any.whl size=27080 sha256=6b5113c84789f5932f447349ab1104db186b657e7558012d52c08356d959a7bb\n",
            "  Stored in directory: /root/.cache/pip/wheels/dd/91/29/a79cecb328d01739e64017b6fb9a1ab9d8cb1853098ec5966d\n",
            "Successfully built htmlmin\n",
            "Installing collected packages: htmlmin, typeguard, multimethod, dacite, imagehash, visions, seaborn, phik, ydata-profiling, pandas-profiling\n",
            "  Attempting uninstall: seaborn\n",
            "    Found existing installation: seaborn 0.13.1\n",
            "    Uninstalling seaborn-0.13.1:\n",
            "      Successfully uninstalled seaborn-0.13.1\n",
            "Successfully installed dacite-1.8.1 htmlmin-0.1.12 imagehash-4.3.1 multimethod-1.11.2 pandas-profiling-3.6.6 phik-0.12.4 seaborn-0.12.2 typeguard-4.2.1 visions-0.7.6 ydata-profiling-4.7.0\n"
          ]
        }
      ],
      "source": [
        "!pip install contractions\n",
        "!pip install langdetect\n",
        "!pip install inflect\n",
        "!pip install scikit-plot\n",
        "!python -m spacy download es_core_news_sm\n",
        "\n",
        "import nltk\n",
        "nltk.download('punkt')\n",
        "nltk.download('stopwords')\n",
        "nltk.download('stopwords-es') # stopwords en español\n",
        "nltk.download('wordnet')\n",
        "\n",
        "import spacy\n",
        "import pandas as pd\n",
        "import numpy as np\n",
        "import sys\n",
        "!{sys.executable} -m pip install pandas-profiling\n",
        "\n",
        "import re, string, unicodedata\n",
        "import contractions\n",
        "import inflect\n",
        "from nltk import word_tokenize, sent_tokenize\n",
        "from nltk.corpus import stopwords\n",
        "\n",
        "import seaborn as sns\n",
        "import seaborn as sns; sns.set()\n",
        "\n",
        "from sklearn.model_selection import train_test_split\n",
        "from sklearn.linear_model import SGDClassifier\n",
        "from sklearn.svm import SVC\n",
        "from sklearn.model_selection import GridSearchCV\n",
        "from sklearn.feature_extraction.text import TfidfVectorizer\n",
        "from sklearn.naive_bayes import MultinomialNB\n",
        "from sklearn.metrics import accuracy_score, precision_score, recall_score, f1_score\n",
        "\n",
        "from langdetect import detect\n",
        "\n",
        "import matplotlib.pyplot as plt"
      ]
    },
    {
      "cell_type": "markdown",
      "metadata": {
        "id": "0hGnuo2lAsf2"
      },
      "source": [
        "## 0. Carga de datos"
      ]
    },
    {
      "cell_type": "code",
      "execution_count": null,
      "metadata": {
        "id": "sDIRNb7EVlLi"
      },
      "outputs": [],
      "source": [
        "df_reviews = pd.read_csv('data/tipo2_entrenamiento_estudiantes.csv', sep=',', encoding = \"UTF-8\")"
      ]
    },
    {
      "cell_type": "markdown",
      "metadata": {
        "id": "cAlrvpXkHdNR"
      },
      "source": [
        "## 1. Entendimiento de los datos"
      ]
    },
    {
      "cell_type": "markdown",
      "metadata": {
        "id": "OHgWw6L6HrRc"
      },
      "source": [
        "### Diccionario de datos"
      ]
    },
    {
      "cell_type": "markdown",
      "metadata": {
        "id": "AMveH9TCXo4V"
      },
      "source": [
        "A continuación se encuentra una breve explicación de los datos proporcionados:"
      ]
    },
    {
      "cell_type": "markdown",
      "metadata": {
        "id": "i3PZtWsUHy_I"
      },
      "source": [
        "| Columna | Tipo de variable | Definición |\n",
        "|:--------|:--------|:--------|\n",
        "| Review | No estructurado | Reseña del sitio turístico visitado. |\n",
        "| Class | Categórica | Calificación según el sentimiento que tuvo el turista hacia el lugar visitado. |"
      ]
    },
    {
      "cell_type": "markdown",
      "metadata": {
        "id": "50MX9IKOIdqU"
      },
      "source": [
        "### Cantidad de filas y columnas"
      ]
    },
    {
      "cell_type": "code",
      "execution_count": null,
      "metadata": {
        "colab": {
          "base_uri": "https://localhost:8080/"
        },
        "id": "z2dYUn1zIdfa",
        "outputId": "6902dd7b-cfb1-4a02-f24b-f8708372b077"
      },
      "outputs": [
        {
          "output_type": "execute_result",
          "data": {
            "text/plain": [
              "(7875, 2)"
            ]
          },
          "metadata": {},
          "execution_count": 4
        }
      ],
      "source": [
        "df_reviews.shape # (filas, columnas)"
      ]
    },
    {
      "cell_type": "markdown",
      "metadata": {
        "id": "20NzoHZ8X0o_"
      },
      "source": [
        "Hay 7875 filas de datos, separadas en dos columnas."
      ]
    },
    {
      "cell_type": "markdown",
      "metadata": {
        "id": "e7R3Q4qSIoqW"
      },
      "source": [
        "### Tipo de dato de cada columna"
      ]
    },
    {
      "cell_type": "code",
      "execution_count": null,
      "metadata": {
        "colab": {
          "base_uri": "https://localhost:8080/"
        },
        "id": "dS4qnUO9IqXn",
        "outputId": "f7a6a7a6-2169-4b7c-e627-0f9bc98969e4"
      },
      "outputs": [
        {
          "output_type": "stream",
          "name": "stdout",
          "text": [
            "<class 'pandas.core.frame.DataFrame'>\n",
            "RangeIndex: 7875 entries, 0 to 7874\n",
            "Data columns (total 2 columns):\n",
            " #   Column  Non-Null Count  Dtype \n",
            "---  ------  --------------  ----- \n",
            " 0   Review  7875 non-null   object\n",
            " 1   Class   7875 non-null   int64 \n",
            "dtypes: int64(1), object(1)\n",
            "memory usage: 123.2+ KB\n"
          ]
        }
      ],
      "source": [
        "df_reviews.info()"
      ]
    },
    {
      "cell_type": "markdown",
      "metadata": {
        "id": "aRa-XLeIIwWa"
      },
      "source": [
        "El tipo de dato de cada variable es consistente con su definición. _Review_ es de tipo object (string), y _Class_ un entero."
      ]
    },
    {
      "cell_type": "markdown",
      "metadata": {
        "id": "j_B7IVCSIyeP"
      },
      "source": [
        "### Muestra de los datos"
      ]
    },
    {
      "cell_type": "code",
      "execution_count": null,
      "metadata": {
        "colab": {
          "base_uri": "https://localhost:8080/",
          "height": 363
        },
        "id": "GdB9pnzgGO4I",
        "outputId": "ce30ee63-f326-4553-90ea-fbb86fca36e4"
      },
      "outputs": [
        {
          "output_type": "execute_result",
          "data": {
            "text/plain": [
              "                                                 Review  Class\n",
              "3615  La atención es pésima, tienen un buen menú per...      1\n",
              "6678  teniamos 6 años sin venir y fue lamentable hab...      2\n",
              "5001  El lugar es agradable. Moderno y con gran clie...      4\n",
              "1953  Habitaciones cómodas y limpias, con muchas atr...      4\n",
              "2513  Plaza típica en el centro de la ciudad. Puede ...      4\n",
              "2196  Hermoso MalecónVale la pena recorrerlo Se cono...      2\n",
              "1001  Impresionante gran significado cultural arcite...      4\n",
              "5328  Si ni siquiera remotamente cerca de estas mara...      5\n",
              "2438  3 cervezas a las 3 de la tarde de un día sábad...      1\n",
              "3238  muy bien ubicado y con un excelente servicio, ...      5"
            ],
            "text/html": [
              "\n",
              "  <div id=\"df-4ca60758-4b6c-4c60-907a-eed48253bf7d\" class=\"colab-df-container\">\n",
              "    <div>\n",
              "<style scoped>\n",
              "    .dataframe tbody tr th:only-of-type {\n",
              "        vertical-align: middle;\n",
              "    }\n",
              "\n",
              "    .dataframe tbody tr th {\n",
              "        vertical-align: top;\n",
              "    }\n",
              "\n",
              "    .dataframe thead th {\n",
              "        text-align: right;\n",
              "    }\n",
              "</style>\n",
              "<table border=\"1\" class=\"dataframe\">\n",
              "  <thead>\n",
              "    <tr style=\"text-align: right;\">\n",
              "      <th></th>\n",
              "      <th>Review</th>\n",
              "      <th>Class</th>\n",
              "    </tr>\n",
              "  </thead>\n",
              "  <tbody>\n",
              "    <tr>\n",
              "      <th>3615</th>\n",
              "      <td>La atención es pésima, tienen un buen menú per...</td>\n",
              "      <td>1</td>\n",
              "    </tr>\n",
              "    <tr>\n",
              "      <th>6678</th>\n",
              "      <td>teniamos 6 años sin venir y fue lamentable hab...</td>\n",
              "      <td>2</td>\n",
              "    </tr>\n",
              "    <tr>\n",
              "      <th>5001</th>\n",
              "      <td>El lugar es agradable. Moderno y con gran clie...</td>\n",
              "      <td>4</td>\n",
              "    </tr>\n",
              "    <tr>\n",
              "      <th>1953</th>\n",
              "      <td>Habitaciones cómodas y limpias, con muchas atr...</td>\n",
              "      <td>4</td>\n",
              "    </tr>\n",
              "    <tr>\n",
              "      <th>2513</th>\n",
              "      <td>Plaza típica en el centro de la ciudad. Puede ...</td>\n",
              "      <td>4</td>\n",
              "    </tr>\n",
              "    <tr>\n",
              "      <th>2196</th>\n",
              "      <td>Hermoso MalecónVale la pena recorrerlo Se cono...</td>\n",
              "      <td>2</td>\n",
              "    </tr>\n",
              "    <tr>\n",
              "      <th>1001</th>\n",
              "      <td>Impresionante gran significado cultural arcite...</td>\n",
              "      <td>4</td>\n",
              "    </tr>\n",
              "    <tr>\n",
              "      <th>5328</th>\n",
              "      <td>Si ni siquiera remotamente cerca de estas mara...</td>\n",
              "      <td>5</td>\n",
              "    </tr>\n",
              "    <tr>\n",
              "      <th>2438</th>\n",
              "      <td>3 cervezas a las 3 de la tarde de un día sábad...</td>\n",
              "      <td>1</td>\n",
              "    </tr>\n",
              "    <tr>\n",
              "      <th>3238</th>\n",
              "      <td>muy bien ubicado y con un excelente servicio, ...</td>\n",
              "      <td>5</td>\n",
              "    </tr>\n",
              "  </tbody>\n",
              "</table>\n",
              "</div>\n",
              "    <div class=\"colab-df-buttons\">\n",
              "\n",
              "  <div class=\"colab-df-container\">\n",
              "    <button class=\"colab-df-convert\" onclick=\"convertToInteractive('df-4ca60758-4b6c-4c60-907a-eed48253bf7d')\"\n",
              "            title=\"Convert this dataframe to an interactive table.\"\n",
              "            style=\"display:none;\">\n",
              "\n",
              "  <svg xmlns=\"http://www.w3.org/2000/svg\" height=\"24px\" viewBox=\"0 -960 960 960\">\n",
              "    <path d=\"M120-120v-720h720v720H120Zm60-500h600v-160H180v160Zm220 220h160v-160H400v160Zm0 220h160v-160H400v160ZM180-400h160v-160H180v160Zm440 0h160v-160H620v160ZM180-180h160v-160H180v160Zm440 0h160v-160H620v160Z\"/>\n",
              "  </svg>\n",
              "    </button>\n",
              "\n",
              "  <style>\n",
              "    .colab-df-container {\n",
              "      display:flex;\n",
              "      gap: 12px;\n",
              "    }\n",
              "\n",
              "    .colab-df-convert {\n",
              "      background-color: #E8F0FE;\n",
              "      border: none;\n",
              "      border-radius: 50%;\n",
              "      cursor: pointer;\n",
              "      display: none;\n",
              "      fill: #1967D2;\n",
              "      height: 32px;\n",
              "      padding: 0 0 0 0;\n",
              "      width: 32px;\n",
              "    }\n",
              "\n",
              "    .colab-df-convert:hover {\n",
              "      background-color: #E2EBFA;\n",
              "      box-shadow: 0px 1px 2px rgba(60, 64, 67, 0.3), 0px 1px 3px 1px rgba(60, 64, 67, 0.15);\n",
              "      fill: #174EA6;\n",
              "    }\n",
              "\n",
              "    .colab-df-buttons div {\n",
              "      margin-bottom: 4px;\n",
              "    }\n",
              "\n",
              "    [theme=dark] .colab-df-convert {\n",
              "      background-color: #3B4455;\n",
              "      fill: #D2E3FC;\n",
              "    }\n",
              "\n",
              "    [theme=dark] .colab-df-convert:hover {\n",
              "      background-color: #434B5C;\n",
              "      box-shadow: 0px 1px 3px 1px rgba(0, 0, 0, 0.15);\n",
              "      filter: drop-shadow(0px 1px 2px rgba(0, 0, 0, 0.3));\n",
              "      fill: #FFFFFF;\n",
              "    }\n",
              "  </style>\n",
              "\n",
              "    <script>\n",
              "      const buttonEl =\n",
              "        document.querySelector('#df-4ca60758-4b6c-4c60-907a-eed48253bf7d button.colab-df-convert');\n",
              "      buttonEl.style.display =\n",
              "        google.colab.kernel.accessAllowed ? 'block' : 'none';\n",
              "\n",
              "      async function convertToInteractive(key) {\n",
              "        const element = document.querySelector('#df-4ca60758-4b6c-4c60-907a-eed48253bf7d');\n",
              "        const dataTable =\n",
              "          await google.colab.kernel.invokeFunction('convertToInteractive',\n",
              "                                                    [key], {});\n",
              "        if (!dataTable) return;\n",
              "\n",
              "        const docLinkHtml = 'Like what you see? Visit the ' +\n",
              "          '<a target=\"_blank\" href=https://colab.research.google.com/notebooks/data_table.ipynb>data table notebook</a>'\n",
              "          + ' to learn more about interactive tables.';\n",
              "        element.innerHTML = '';\n",
              "        dataTable['output_type'] = 'display_data';\n",
              "        await google.colab.output.renderOutput(dataTable, element);\n",
              "        const docLink = document.createElement('div');\n",
              "        docLink.innerHTML = docLinkHtml;\n",
              "        element.appendChild(docLink);\n",
              "      }\n",
              "    </script>\n",
              "  </div>\n",
              "\n",
              "\n",
              "<div id=\"df-1dd9fbb3-60f3-4993-9cb1-c1970846a314\">\n",
              "  <button class=\"colab-df-quickchart\" onclick=\"quickchart('df-1dd9fbb3-60f3-4993-9cb1-c1970846a314')\"\n",
              "            title=\"Suggest charts\"\n",
              "            style=\"display:none;\">\n",
              "\n",
              "<svg xmlns=\"http://www.w3.org/2000/svg\" height=\"24px\"viewBox=\"0 0 24 24\"\n",
              "     width=\"24px\">\n",
              "    <g>\n",
              "        <path d=\"M19 3H5c-1.1 0-2 .9-2 2v14c0 1.1.9 2 2 2h14c1.1 0 2-.9 2-2V5c0-1.1-.9-2-2-2zM9 17H7v-7h2v7zm4 0h-2V7h2v10zm4 0h-2v-4h2v4z\"/>\n",
              "    </g>\n",
              "</svg>\n",
              "  </button>\n",
              "\n",
              "<style>\n",
              "  .colab-df-quickchart {\n",
              "      --bg-color: #E8F0FE;\n",
              "      --fill-color: #1967D2;\n",
              "      --hover-bg-color: #E2EBFA;\n",
              "      --hover-fill-color: #174EA6;\n",
              "      --disabled-fill-color: #AAA;\n",
              "      --disabled-bg-color: #DDD;\n",
              "  }\n",
              "\n",
              "  [theme=dark] .colab-df-quickchart {\n",
              "      --bg-color: #3B4455;\n",
              "      --fill-color: #D2E3FC;\n",
              "      --hover-bg-color: #434B5C;\n",
              "      --hover-fill-color: #FFFFFF;\n",
              "      --disabled-bg-color: #3B4455;\n",
              "      --disabled-fill-color: #666;\n",
              "  }\n",
              "\n",
              "  .colab-df-quickchart {\n",
              "    background-color: var(--bg-color);\n",
              "    border: none;\n",
              "    border-radius: 50%;\n",
              "    cursor: pointer;\n",
              "    display: none;\n",
              "    fill: var(--fill-color);\n",
              "    height: 32px;\n",
              "    padding: 0;\n",
              "    width: 32px;\n",
              "  }\n",
              "\n",
              "  .colab-df-quickchart:hover {\n",
              "    background-color: var(--hover-bg-color);\n",
              "    box-shadow: 0 1px 2px rgba(60, 64, 67, 0.3), 0 1px 3px 1px rgba(60, 64, 67, 0.15);\n",
              "    fill: var(--button-hover-fill-color);\n",
              "  }\n",
              "\n",
              "  .colab-df-quickchart-complete:disabled,\n",
              "  .colab-df-quickchart-complete:disabled:hover {\n",
              "    background-color: var(--disabled-bg-color);\n",
              "    fill: var(--disabled-fill-color);\n",
              "    box-shadow: none;\n",
              "  }\n",
              "\n",
              "  .colab-df-spinner {\n",
              "    border: 2px solid var(--fill-color);\n",
              "    border-color: transparent;\n",
              "    border-bottom-color: var(--fill-color);\n",
              "    animation:\n",
              "      spin 1s steps(1) infinite;\n",
              "  }\n",
              "\n",
              "  @keyframes spin {\n",
              "    0% {\n",
              "      border-color: transparent;\n",
              "      border-bottom-color: var(--fill-color);\n",
              "      border-left-color: var(--fill-color);\n",
              "    }\n",
              "    20% {\n",
              "      border-color: transparent;\n",
              "      border-left-color: var(--fill-color);\n",
              "      border-top-color: var(--fill-color);\n",
              "    }\n",
              "    30% {\n",
              "      border-color: transparent;\n",
              "      border-left-color: var(--fill-color);\n",
              "      border-top-color: var(--fill-color);\n",
              "      border-right-color: var(--fill-color);\n",
              "    }\n",
              "    40% {\n",
              "      border-color: transparent;\n",
              "      border-right-color: var(--fill-color);\n",
              "      border-top-color: var(--fill-color);\n",
              "    }\n",
              "    60% {\n",
              "      border-color: transparent;\n",
              "      border-right-color: var(--fill-color);\n",
              "    }\n",
              "    80% {\n",
              "      border-color: transparent;\n",
              "      border-right-color: var(--fill-color);\n",
              "      border-bottom-color: var(--fill-color);\n",
              "    }\n",
              "    90% {\n",
              "      border-color: transparent;\n",
              "      border-bottom-color: var(--fill-color);\n",
              "    }\n",
              "  }\n",
              "</style>\n",
              "\n",
              "  <script>\n",
              "    async function quickchart(key) {\n",
              "      const quickchartButtonEl =\n",
              "        document.querySelector('#' + key + ' button');\n",
              "      quickchartButtonEl.disabled = true;  // To prevent multiple clicks.\n",
              "      quickchartButtonEl.classList.add('colab-df-spinner');\n",
              "      try {\n",
              "        const charts = await google.colab.kernel.invokeFunction(\n",
              "            'suggestCharts', [key], {});\n",
              "      } catch (error) {\n",
              "        console.error('Error during call to suggestCharts:', error);\n",
              "      }\n",
              "      quickchartButtonEl.classList.remove('colab-df-spinner');\n",
              "      quickchartButtonEl.classList.add('colab-df-quickchart-complete');\n",
              "    }\n",
              "    (() => {\n",
              "      let quickchartButtonEl =\n",
              "        document.querySelector('#df-1dd9fbb3-60f3-4993-9cb1-c1970846a314 button');\n",
              "      quickchartButtonEl.style.display =\n",
              "        google.colab.kernel.accessAllowed ? 'block' : 'none';\n",
              "    })();\n",
              "  </script>\n",
              "</div>\n",
              "\n",
              "    </div>\n",
              "  </div>\n"
            ],
            "application/vnd.google.colaboratory.intrinsic+json": {
              "type": "dataframe",
              "summary": "{\n  \"name\": \"df_reviews\",\n  \"rows\": 10,\n  \"fields\": [\n    {\n      \"column\": \"Review\",\n      \"properties\": {\n        \"dtype\": \"string\",\n        \"num_unique_values\": 10,\n        \"samples\": [\n          \"3 cervezas a las 3 de la tarde de un d\\u00eda s\\u00e1bado $ 162.000.- ($ 80.000 de cover / 2 personas).\\nRealmente hay que cerrarlo !!!!\",\n          \"teniamos 6 a\\u00f1os sin venir y fue lamentable haber escogido este restaurante. muy bonita la laguna con los caimanes y tortugas, pero la comida en general de toda la familia, cocteles y pescado muy desabridos, el sazon del chef muy esteril. los productos si se nota que son del dia y de calidad, buen pescados buenos camarones y pulpo pero un sazon muy inferior. te ofrecen internet ybla clave cuando la digitas no funciona. le dices al mesero y dice que esa es la clave y que es un error de mi telefono. lo que no supo es que lod 6 telwfonos de la familia no pudieron conectarse y no me dio solucion. en fin no volvemos\",\n          \"Hermoso Malec\\u00f3nVale la pena recorrerlo Se conocen edificios emblem\\u00e1ticos y escenarios de famosas pel\\u00edculas que tantas veces han sido vistas\"\n        ],\n        \"semantic_type\": \"\",\n        \"description\": \"\"\n      }\n    },\n    {\n      \"column\": \"Class\",\n      \"properties\": {\n        \"dtype\": \"number\",\n        \"std\": 1,\n        \"min\": 1,\n        \"max\": 5,\n        \"num_unique_values\": 4,\n        \"samples\": [\n          2,\n          5,\n          1\n        ],\n        \"semantic_type\": \"\",\n        \"description\": \"\"\n      }\n    }\n  ]\n}"
            }
          },
          "metadata": {},
          "execution_count": 6
        }
      ],
      "source": [
        "# Muestra de 10 datos\n",
        "df_reviews.sample(10)"
      ]
    },
    {
      "cell_type": "markdown",
      "metadata": {
        "id": "8RKMvvT8JDtF"
      },
      "source": [
        "### Exploración de variables"
      ]
    },
    {
      "cell_type": "markdown",
      "metadata": {
        "id": "zVaJqcG9JEaQ"
      },
      "source": [
        "Para la variable _Review_, se exploran varios factores."
      ]
    },
    {
      "cell_type": "markdown",
      "metadata": {
        "id": "_BtZ5uW5JLnf"
      },
      "source": [
        "**Promedio de caracteres por reseña:**"
      ]
    },
    {
      "cell_type": "code",
      "execution_count": null,
      "metadata": {
        "colab": {
          "base_uri": "https://localhost:8080/"
        },
        "id": "-a8hMA_GKAuw",
        "outputId": "c0626eef-2e3b-4618-b4ab-e50062da9a45"
      },
      "outputs": [
        {
          "output_type": "stream",
          "name": "stdout",
          "text": [
            "Promedio de caracteres: 408.0504126984127\n"
          ]
        }
      ],
      "source": [
        "promedio_caracteres = df_reviews['Review'].str.len().mean()\n",
        "print(\"Promedio de caracteres:\", promedio_caracteres)\n"
      ]
    },
    {
      "cell_type": "markdown",
      "metadata": {
        "id": "Tdc3JlMTK8l0"
      },
      "source": [
        "**Promedio de cantidad de palabras por reseña:**"
      ]
    },
    {
      "cell_type": "code",
      "execution_count": null,
      "metadata": {
        "colab": {
          "base_uri": "https://localhost:8080/"
        },
        "id": "CSx1lZmCK_TO",
        "outputId": "b0c7f5db-c9e0-47d5-9690-bd9ad68bf9c8"
      },
      "outputs": [
        {
          "output_type": "stream",
          "name": "stdout",
          "text": [
            "Promedio de cantidad de palabras: 70.8167619047619\n"
          ]
        }
      ],
      "source": [
        "promedio_palabras = df_reviews['Review'].apply(lambda x: len(x.split())).mean()\n",
        "print(\"Promedio de cantidad de palabras:\", promedio_palabras)"
      ]
    },
    {
      "cell_type": "markdown",
      "metadata": {
        "id": "bn82HcAkJPq_"
      },
      "source": [
        "**Idiomas:**"
      ]
    },
    {
      "cell_type": "code",
      "execution_count": null,
      "metadata": {
        "colab": {
          "base_uri": "https://localhost:8080/"
        },
        "id": "dNcxYzspLgig",
        "outputId": "237e5d62-d95c-47fa-d6c6-7ba88655a83f"
      },
      "outputs": [
        {
          "output_type": "execute_result",
          "data": {
            "text/plain": [
              "Idioma\n",
              "es    99.911111\n",
              "pt     0.025397\n",
              "en     0.025397\n",
              "it     0.025397\n",
              "sq     0.012698\n",
              "Name: proportion, dtype: float64"
            ]
          },
          "metadata": {},
          "execution_count": 9
        }
      ],
      "source": [
        "# Función para detectar el idioma de una reseña\n",
        "def detectar_idioma(texto):\n",
        "    try:\n",
        "        idioma = detect(texto)\n",
        "        return idioma\n",
        "    except:\n",
        "        return 'Desconocido'  # Manejar casos en los que no se puede detectar el idioma\n",
        "\n",
        "# Aplicar la función a la columna de reseñas y crear una nueva columna con el idioma detectado\n",
        "df_reviews['Idioma'] = df_reviews['Review'].apply(detectar_idioma)\n",
        "\n",
        "# Calcular el porcentaje de idioma\n",
        "porcentaje_idioma = df_reviews['Idioma'].value_counts(normalize=True) * 100\n",
        "\n",
        "porcentaje_idioma"
      ]
    },
    {
      "cell_type": "markdown",
      "metadata": {
        "id": "8FlDSwLGNyLb"
      },
      "source": [
        "Podemos ver que la mayoría de reseñas son en español, y que hay algunas en inglés, portgués, italiano y albanés. El porcentaje de estos idiomas es extremadamente bajo, por lo que se toma la decisión de borrar estas filas (esto se hará en la limpieza de datos)."
      ]
    },
    {
      "cell_type": "markdown",
      "metadata": {
        "id": "g9tg7hqQJXOH"
      },
      "source": [
        "Para la variable _Class_ se observa simplemente la cantidad."
      ]
    },
    {
      "cell_type": "code",
      "execution_count": null,
      "metadata": {
        "colab": {
          "base_uri": "https://localhost:8080/",
          "height": 481
        },
        "id": "FFX_3BG8JagD",
        "outputId": "ea010b9e-662b-44c3-b232-78243495643d"
      },
      "outputs": [
        {
          "output_type": "display_data",
          "data": {
            "text/plain": [
              "<Figure size 640x480 with 1 Axes>"
            ],
            "image/png": "[encoded data removed]"
          },
          "metadata": {}
        }
      ],
      "source": [
        "# Ordenar\n",
        "order = df_reviews['Class'].value_counts(ascending=False).index\n",
        "\n",
        "# Crear el gráfico\n",
        "ax = sns.countplot(x='Class', data=df_reviews, order=order)\n",
        "ax.set_xticklabels(ax.get_xticklabels(), rotation=90)\n",
        "plt.tight_layout()"
      ]
    },
    {
      "cell_type": "markdown",
      "metadata": {
        "id": "6Gh6HpGCJs1M"
      },
      "source": [
        "No se observa ningún valor fuera del rango, de valor continuo, nulo, o de otro tipo de dato."
      ]
    },
    {
      "cell_type": "markdown",
      "metadata": {
        "id": "1s9OHPO7NbTN"
      },
      "source": [
        "## 2. Verificación de la calidad de los datos"
      ]
    },
    {
      "cell_type": "markdown",
      "metadata": {
        "id": "0glO-qZnNdbP"
      },
      "source": [
        "### Completitud"
      ]
    },
    {
      "cell_type": "code",
      "execution_count": null,
      "metadata": {
        "colab": {
          "base_uri": "https://localhost:8080/"
        },
        "id": "CBvTR9XGNmdq",
        "outputId": "f5cd3924-2150-48ff-9ed7-865fbbbec849"
      },
      "outputs": [
        {
          "output_type": "execute_result",
          "data": {
            "text/plain": [
              "Review    0.0\n",
              "Class     0.0\n",
              "Idioma    0.0\n",
              "dtype: float64"
            ]
          },
          "metadata": {},
          "execution_count": 11
        }
      ],
      "source": [
        "# Cálculo de porcentaje de valores nulos por columna\n",
        "((df_reviews.isnull().sum()/df_reviews.shape[0])).sort_values(ascending=False)"
      ]
    },
    {
      "cell_type": "markdown",
      "metadata": {
        "id": "VoaXsfhZO_Zt"
      },
      "source": [
        "No hay datos nulos."
      ]
    },
    {
      "cell_type": "markdown",
      "metadata": {
        "id": "QcLgvqj7PFRH"
      },
      "source": [
        "### Unicidad"
      ]
    },
    {
      "cell_type": "markdown",
      "metadata": {
        "id": "kiUZUwvgPG-r"
      },
      "source": [
        "Se verifica que no haya datos duplicados."
      ]
    },
    {
      "cell_type": "code",
      "execution_count": null,
      "metadata": {
        "colab": {
          "base_uri": "https://localhost:8080/"
        },
        "id": "e3NYe2zvPKu7",
        "outputId": "87455a6d-7ad4-4e2e-9e82-11bce170c1d3"
      },
      "outputs": [
        {
          "output_type": "execute_result",
          "data": {
            "text/plain": [
              "102"
            ]
          },
          "metadata": {},
          "execution_count": 12
        }
      ],
      "source": [
        "df_reviews.duplicated(keep = False).sum()"
      ]
    },
    {
      "cell_type": "markdown",
      "metadata": {
        "id": "O-wR-MRdPMdd"
      },
      "source": [
        "Como se puede ver, hay 102 datos duplicados, los cuales serán manejados en el apartado de limpieza."
      ]
    },
    {
      "cell_type": "markdown",
      "metadata": {
        "id": "NHR_xPr6Pjrj"
      },
      "source": [
        "### Consistencia"
      ]
    },
    {
      "cell_type": "markdown",
      "metadata": {
        "id": "CcJcAx4EPk6c"
      },
      "source": [
        "Se salta esta verificación, pues según la información proporcionada no hay variables que deban ser consistentes entre sí."
      ]
    },
    {
      "cell_type": "markdown",
      "metadata": {
        "id": "Y4FnTZmCPq3z"
      },
      "source": [
        "### Validez"
      ]
    },
    {
      "cell_type": "markdown",
      "metadata": {
        "id": "Os814DulPrvT"
      },
      "source": [
        "Se verifica que la variable _Class_ tiene valores de 1 a 5, enteros."
      ]
    },
    {
      "cell_type": "code",
      "execution_count": null,
      "metadata": {
        "colab": {
          "base_uri": "https://localhost:8080/"
        },
        "id": "hweUUFPwP1JG",
        "outputId": "1af1c8dd-a34b-475b-c9ca-333c4e7491f9"
      },
      "outputs": [
        {
          "output_type": "execute_result",
          "data": {
            "text/plain": [
              "array([5, 3, 4, 2, 1])"
            ]
          },
          "metadata": {},
          "execution_count": 13
        }
      ],
      "source": [
        "df_reviews['Class'].unique()"
      ]
    },
    {
      "cell_type": "markdown",
      "metadata": {
        "id": "0_Z7Wq-guu3J"
      },
      "source": [
        "No hay valores atípicos. Bien."
      ]
    },
    {
      "cell_type": "markdown",
      "metadata": {
        "id": "nRQcFIOWnnKf"
      },
      "source": [
        "## 3. Preparación de los datos"
      ]
    },
    {
      "cell_type": "code",
      "execution_count": 142,
      "metadata": {
        "id": "6wTHmE1FnxhV"
      },
      "outputs": [],
      "source": [
        "# Se crea una copia del dataframe para iniciar la limpieza de los datos\n",
        "df_limpio = df_reviews.copy()"
      ]
    },
    {
      "cell_type": "markdown",
      "metadata": {
        "id": "Rzg7k8izpZDD"
      },
      "source": [
        "### 3.1 Limpieza de los datos"
      ]
    },
    {
      "cell_type": "markdown",
      "metadata": {
        "id": "f2xfmoS1pgL2"
      },
      "source": [
        "#### Eliminación de filas duplicadas"
      ]
    },
    {
      "cell_type": "code",
      "execution_count": 143,
      "metadata": {
        "id": "wD4gj3bXpoyH"
      },
      "outputs": [],
      "source": [
        "df_limpio = df_limpio.drop_duplicates()"
      ]
    },
    {
      "cell_type": "markdown",
      "metadata": {
        "id": "gcdpsBalpp-a"
      },
      "source": [
        "Se verifica que no hayan quedado datos duplicados."
      ]
    },
    {
      "cell_type": "code",
      "execution_count": 144,
      "metadata": {
        "colab": {
          "base_uri": "https://localhost:8080/"
        },
        "id": "Y7d-LPaWprJJ",
        "outputId": "2e424102-2ef7-44a7-c401-bb280b74298f"
      },
      "outputs": [
        {
          "output_type": "execute_result",
          "data": {
            "text/plain": [
              "0"
            ]
          },
          "metadata": {},
          "execution_count": 144
        }
      ],
      "source": [
        "df_limpio.duplicated(keep = False).sum()"
      ]
    },
    {
      "cell_type": "markdown",
      "metadata": {
        "id": "aDyUOCPvocgk"
      },
      "source": [
        "#### Eliminación de filas en otros idiomas"
      ]
    },
    {
      "cell_type": "markdown",
      "metadata": {
        "id": "2ksSYZM6ohZs"
      },
      "source": [
        "Se eliminan las filas con idiomas diferentes a español."
      ]
    },
    {
      "cell_type": "code",
      "execution_count": 145,
      "metadata": {
        "id": "9of7UhPCohuB"
      },
      "outputs": [],
      "source": [
        "# Índices de las filas a eliminar\n",
        "indices_a_eliminar = df_limpio.loc[df_limpio['Idioma'] != 'es'].index\n",
        "\n",
        "# Eliminar las filas seleccionadas\n",
        "df_limpio = df_limpio.drop(indices_a_eliminar)"
      ]
    },
    {
      "cell_type": "markdown",
      "metadata": {
        "id": "IAbkKBo5qA88"
      },
      "source": [
        "#### Preprocessing"
      ]
    },
    {
      "cell_type": "code",
      "execution_count": 146,
      "metadata": {
        "id": "8XkFrIcGqEyq",
        "colab": {
          "base_uri": "https://localhost:8080/"
        },
        "outputId": "76eecd3c-267f-412e-ab3f-901d4a53045d"
      },
      "outputs": [
        {
          "output_type": "stream",
          "name": "stdout",
          "text": [
            "['Tengo', 'twenty-one', 'años']\n"
          ]
        }
      ],
      "source": [
        "def remove_non_ascii(words):\n",
        "    \"\"\"Remove non-ASCII characters from list of tokenized words\"\"\"\n",
        "    new_words = []\n",
        "    for word in words:\n",
        "        if word is not None:\n",
        "          new_word = unicodedata.normalize('NFKD', word).encode('ascii', 'ignore').decode('utf-8', 'ignore')\n",
        "          new_words.append(new_word)\n",
        "    return new_words\n",
        "\n",
        "def to_lowercase(words):\n",
        "    \"\"\"Convert all characters to lowercase from list of tokenized words\"\"\"\n",
        "    return [word.lower() for word in words]\n",
        "\n",
        "def remove_punctuation(words):\n",
        "    \"\"\"Remove punctuation from list of tokenized words\"\"\"\n",
        "    new_words = []\n",
        "    for word in words:\n",
        "        if word is not None:\n",
        "            new_word = re.sub(r'[^\\w\\s]', '', word)\n",
        "            if new_word != '':\n",
        "                new_words.append(new_word)\n",
        "    return new_words\n",
        "\n",
        "def replace_numbers(words):\n",
        "    \"\"\"Replace all interger occurrences in list of tokenized words with textual representation\"\"\"\n",
        "    p = inflect.engine()\n",
        "    new_words = []\n",
        "    for word in words:\n",
        "        if word.isdigit():\n",
        "            new_word = p.number_to_words(word)\n",
        "            new_words.append(new_word)\n",
        "        else:\n",
        "            new_words.append(word)\n",
        "    return new_words\n",
        "\n",
        "# Ejemplo de replace_numbers\n",
        "words = \"Tengo 21 años\"\n",
        "print(replace_numbers(words.split()))\n",
        "\n",
        "def remove_stopwords(words):\n",
        "    \"\"\"Remove stop words from list of tokenized words\"\"\"\n",
        "    palabras_vacias = set(stopwords.words('spanish'))\n",
        "    return [word for word in words if word.lower() not in palabras_vacias]\n",
        "\n",
        "def preprocessing(words):\n",
        "    words = remove_non_ascii(words)\n",
        "    words = to_lowercase(words)\n",
        "    words = remove_punctuation(words)\n",
        "    words = replace_numbers(words)\n",
        "    words = remove_stopwords(words)\n",
        "    return words\n"
      ]
    },
    {
      "cell_type": "markdown",
      "metadata": {
        "id": "GH3Q_tIRqswN"
      },
      "source": [
        "El output anterior es de una prueba de un ejemplo de replace_numbers. Como se puede ver, la representación textual queda en inglés. Sin embargo, esto no es un problema, pues anteriormente se aseguró que solo quedaran las filas en español y solo los números estarán en inglés."
      ]
    },
    {
      "cell_type": "markdown",
      "metadata": {
        "id": "EUyxYPaDkdSp"
      },
      "source": [
        "### 3.2 Tokenización"
      ]
    },
    {
      "cell_type": "markdown",
      "metadata": {
        "id": "mz0mYmrlrTVa"
      },
      "source": [
        "Primero se realiza una corrección de las contracciones que pueden estar presentes en los textos."
      ]
    },
    {
      "cell_type": "code",
      "execution_count": 147,
      "metadata": {
        "id": "FL8s3VsYrN6i"
      },
      "outputs": [],
      "source": [
        "df_limpio['Review'] = df_limpio['Review'].apply(contractions.fix) # Aplica la corrección de las contracciones"
      ]
    },
    {
      "cell_type": "markdown",
      "metadata": {
        "id": "_yylxwUFrSeK"
      },
      "source": [
        "Luego se tokenizan las palabras, destinando una columna para el resultado"
      ]
    },
    {
      "cell_type": "code",
      "execution_count": 148,
      "metadata": {
        "id": "Exus2wwikBKO"
      },
      "outputs": [],
      "source": [
        "# Se agrega una columna de palabras\n",
        "df_limpio['Palabras'] = df_limpio['Review'].apply(word_tokenize)"
      ]
    },
    {
      "cell_type": "code",
      "execution_count": 149,
      "metadata": {
        "id": "dA2sZGCTr1X0",
        "colab": {
          "base_uri": "https://localhost:8080/"
        },
        "outputId": "1a922c0f-18a8-4f70-c606-5d4f136276f6"
      },
      "outputs": [
        {
          "output_type": "execute_result",
          "data": {
            "text/plain": [
              "0       [Muy, buena, atención, y, aclaración, de, duda...\n",
              "1       [Buen, hotel, si, están, obligados, a, estar, ...\n",
              "2       [Es, un, lugar, muy, lindo, para, fotografías,...\n",
              "3       [Abusados, con, la, factura, de, alimentos, si...\n",
              "4       [Tuvimos, un, par, de, personas, en, el, grupo...\n",
              "                              ...                        \n",
              "7870    [Me, parece, buen, sistema, ,, agiliza, el, tr...\n",
              "7871    [Fue, una, escapada, de, un, día, desde, el, c...\n",
              "7872    [La, Plaza, de, la, Revolución, es, un, lugar,...\n",
              "7873    [Es, la, segunda, ocasión, que, me, quedo, en,...\n",
              "7874    [Llegamos, por, casualidad, a, Los, Mercaderes...\n",
              "Name: Palabras, Length: 7795, dtype: object"
            ]
          },
          "metadata": {},
          "execution_count": 149
        }
      ],
      "source": [
        "df_limpio['Palabras'].dropna()"
      ]
    },
    {
      "cell_type": "code",
      "execution_count": 150,
      "metadata": {
        "id": "HUhu6LjKr1yy"
      },
      "outputs": [],
      "source": [
        "df_limpio['Palabras'] = df_limpio['Palabras'].apply(preprocessing)"
      ]
    },
    {
      "cell_type": "markdown",
      "metadata": {
        "id": "mNnIykHVRmEB"
      },
      "source": [
        "El dataframe limpio queda de la siguiente manera:"
      ]
    },
    {
      "cell_type": "code",
      "execution_count": 151,
      "metadata": {
        "colab": {
          "base_uri": "https://localhost:8080/",
          "height": 0
        },
        "id": "xTOoqFQWRosx",
        "outputId": "ab201e09-be86-4539-f975-7f2cc267085a"
      },
      "outputs": [
        {
          "output_type": "execute_result",
          "data": {
            "text/plain": [
              "                                                 Review  Class Idioma  \\\n",
              "0     Muy buena atención y aclaración de dudas por p...      5     es   \n",
              "1     Buen hotel si están obligados a estar cerca de...      3     es   \n",
              "2     Es un lugar muy lindo para fotografías, visite...      5     es   \n",
              "3     Abusados con la factura de alimentos siempre s...      3     es   \n",
              "4     Tuvimos un par de personas en el grupo que rea...      3     es   \n",
              "...                                                 ...    ...    ...   \n",
              "7870  Me parece buen sistema, agiliza el transporte,...      4     es   \n",
              "7871  Fue una escapada de un día desde el complejo, ...      4     es   \n",
              "7872  La Plaza de la Revolución es un lugar emblemát...      3     es   \n",
              "7873  Es la segunda ocasión que me quedo en los cuar...      1     es   \n",
              "7874  Llegamos por casualidad a Los Mercaderes, un g...      5     es   \n",
              "\n",
              "                                               Palabras  \n",
              "0     [buena, atencion, aclaracion, dudas, parte, se...  \n",
              "1     [buen, hotel, si, estan, obligados, cerca, cen...  \n",
              "2     [lugar, lindo, fotografias, visiten, selina, m...  \n",
              "3     [abusados, factura, alimentos, siempre, echan,...  \n",
              "4     [par, personas, grupo, realmente, queriamos, c...  \n",
              "...                                                 ...  \n",
              "7870  [parece, buen, sistema, agiliza, transporte, c...  \n",
              "7871  [escapada, dia, complejo, grupo, turistas, hab...  \n",
              "7872  [plaza, revolucion, lugar, emblematico, identi...  \n",
              "7873  [segunda, ocasion, quedo, cuartos, area, jardi...  \n",
              "7874  [llegamos, casualidad, mercaderes, grupo, gran...  \n",
              "\n",
              "[7795 rows x 4 columns]"
            ],
            "text/html": [
              "\n",
              "  <div id=\"df-80936eb7-3fef-4526-97bd-d11212f1ff76\" class=\"colab-df-container\">\n",
              "    <div>\n",
              "<style scoped>\n",
              "    .dataframe tbody tr th:only-of-type {\n",
              "        vertical-align: middle;\n",
              "    }\n",
              "\n",
              "    .dataframe tbody tr th {\n",
              "        vertical-align: top;\n",
              "    }\n",
              "\n",
              "    .dataframe thead th {\n",
              "        text-align: right;\n",
              "    }\n",
              "</style>\n",
              "<table border=\"1\" class=\"dataframe\">\n",
              "  <thead>\n",
              "    <tr style=\"text-align: right;\">\n",
              "      <th></th>\n",
              "      <th>Review</th>\n",
              "      <th>Class</th>\n",
              "      <th>Idioma</th>\n",
              "      <th>Palabras</th>\n",
              "    </tr>\n",
              "  </thead>\n",
              "  <tbody>\n",
              "    <tr>\n",
              "      <th>0</th>\n",
              "      <td>Muy buena atención y aclaración de dudas por p...</td>\n",
              "      <td>5</td>\n",
              "      <td>es</td>\n",
              "      <td>[buena, atencion, aclaracion, dudas, parte, se...</td>\n",
              "    </tr>\n",
              "    <tr>\n",
              "      <th>1</th>\n",
              "      <td>Buen hotel si están obligados a estar cerca de...</td>\n",
              "      <td>3</td>\n",
              "      <td>es</td>\n",
              "      <td>[buen, hotel, si, estan, obligados, cerca, cen...</td>\n",
              "    </tr>\n",
              "    <tr>\n",
              "      <th>2</th>\n",
              "      <td>Es un lugar muy lindo para fotografías, visite...</td>\n",
              "      <td>5</td>\n",
              "      <td>es</td>\n",
              "      <td>[lugar, lindo, fotografias, visiten, selina, m...</td>\n",
              "    </tr>\n",
              "    <tr>\n",
              "      <th>3</th>\n",
              "      <td>Abusados con la factura de alimentos siempre s...</td>\n",
              "      <td>3</td>\n",
              "      <td>es</td>\n",
              "      <td>[abusados, factura, alimentos, siempre, echan,...</td>\n",
              "    </tr>\n",
              "    <tr>\n",
              "      <th>4</th>\n",
              "      <td>Tuvimos un par de personas en el grupo que rea...</td>\n",
              "      <td>3</td>\n",
              "      <td>es</td>\n",
              "      <td>[par, personas, grupo, realmente, queriamos, c...</td>\n",
              "    </tr>\n",
              "    <tr>\n",
              "      <th>...</th>\n",
              "      <td>...</td>\n",
              "      <td>...</td>\n",
              "      <td>...</td>\n",
              "      <td>...</td>\n",
              "    </tr>\n",
              "    <tr>\n",
              "      <th>7870</th>\n",
              "      <td>Me parece buen sistema, agiliza el transporte,...</td>\n",
              "      <td>4</td>\n",
              "      <td>es</td>\n",
              "      <td>[parece, buen, sistema, agiliza, transporte, c...</td>\n",
              "    </tr>\n",
              "    <tr>\n",
              "      <th>7871</th>\n",
              "      <td>Fue una escapada de un día desde el complejo, ...</td>\n",
              "      <td>4</td>\n",
              "      <td>es</td>\n",
              "      <td>[escapada, dia, complejo, grupo, turistas, hab...</td>\n",
              "    </tr>\n",
              "    <tr>\n",
              "      <th>7872</th>\n",
              "      <td>La Plaza de la Revolución es un lugar emblemát...</td>\n",
              "      <td>3</td>\n",
              "      <td>es</td>\n",
              "      <td>[plaza, revolucion, lugar, emblematico, identi...</td>\n",
              "    </tr>\n",
              "    <tr>\n",
              "      <th>7873</th>\n",
              "      <td>Es la segunda ocasión que me quedo en los cuar...</td>\n",
              "      <td>1</td>\n",
              "      <td>es</td>\n",
              "      <td>[segunda, ocasion, quedo, cuartos, area, jardi...</td>\n",
              "    </tr>\n",
              "    <tr>\n",
              "      <th>7874</th>\n",
              "      <td>Llegamos por casualidad a Los Mercaderes, un g...</td>\n",
              "      <td>5</td>\n",
              "      <td>es</td>\n",
              "      <td>[llegamos, casualidad, mercaderes, grupo, gran...</td>\n",
              "    </tr>\n",
              "  </tbody>\n",
              "</table>\n",
              "<p>7795 rows × 4 columns</p>\n",
              "</div>\n",
              "    <div class=\"colab-df-buttons\">\n",
              "\n",
              "  <div class=\"colab-df-container\">\n",
              "    <button class=\"colab-df-convert\" onclick=\"convertToInteractive('df-80936eb7-3fef-4526-97bd-d11212f1ff76')\"\n",
              "            title=\"Convert this dataframe to an interactive table.\"\n",
              "            style=\"display:none;\">\n",
              "\n",
              "  <svg xmlns=\"http://www.w3.org/2000/svg\" height=\"24px\" viewBox=\"0 -960 960 960\">\n",
              "    <path d=\"M120-120v-720h720v720H120Zm60-500h600v-160H180v160Zm220 220h160v-160H400v160Zm0 220h160v-160H400v160ZM180-400h160v-160H180v160Zm440 0h160v-160H620v160ZM180-180h160v-160H180v160Zm440 0h160v-160H620v160Z\"/>\n",
              "  </svg>\n",
              "    </button>\n",
              "\n",
              "  <style>\n",
              "    .colab-df-container {\n",
              "      display:flex;\n",
              "      gap: 12px;\n",
              "    }\n",
              "\n",
              "    .colab-df-convert {\n",
              "      background-color: #E8F0FE;\n",
              "      border: none;\n",
              "      border-radius: 50%;\n",
              "      cursor: pointer;\n",
              "      display: none;\n",
              "      fill: #1967D2;\n",
              "      height: 32px;\n",
              "      padding: 0 0 0 0;\n",
              "      width: 32px;\n",
              "    }\n",
              "\n",
              "    .colab-df-convert:hover {\n",
              "      background-color: #E2EBFA;\n",
              "      box-shadow: 0px 1px 2px rgba(60, 64, 67, 0.3), 0px 1px 3px 1px rgba(60, 64, 67, 0.15);\n",
              "      fill: #174EA6;\n",
              "    }\n",
              "\n",
              "    .colab-df-buttons div {\n",
              "      margin-bottom: 4px;\n",
              "    }\n",
              "\n",
              "    [theme=dark] .colab-df-convert {\n",
              "      background-color: #3B4455;\n",
              "      fill: #D2E3FC;\n",
              "    }\n",
              "\n",
              "    [theme=dark] .colab-df-convert:hover {\n",
              "      background-color: #434B5C;\n",
              "      box-shadow: 0px 1px 3px 1px rgba(0, 0, 0, 0.15);\n",
              "      filter: drop-shadow(0px 1px 2px rgba(0, 0, 0, 0.3));\n",
              "      fill: #FFFFFF;\n",
              "    }\n",
              "  </style>\n",
              "\n",
              "    <script>\n",
              "      const buttonEl =\n",
              "        document.querySelector('#df-80936eb7-3fef-4526-97bd-d11212f1ff76 button.colab-df-convert');\n",
              "      buttonEl.style.display =\n",
              "        google.colab.kernel.accessAllowed ? 'block' : 'none';\n",
              "\n",
              "      async function convertToInteractive(key) {\n",
              "        const element = document.querySelector('#df-80936eb7-3fef-4526-97bd-d11212f1ff76');\n",
              "        const dataTable =\n",
              "          await google.colab.kernel.invokeFunction('convertToInteractive',\n",
              "                                                    [key], {});\n",
              "        if (!dataTable) return;\n",
              "\n",
              "        const docLinkHtml = 'Like what you see? Visit the ' +\n",
              "          '<a target=\"_blank\" href=https://colab.research.google.com/notebooks/data_table.ipynb>data table notebook</a>'\n",
              "          + ' to learn more about interactive tables.';\n",
              "        element.innerHTML = '';\n",
              "        dataTable['output_type'] = 'display_data';\n",
              "        await google.colab.output.renderOutput(dataTable, element);\n",
              "        const docLink = document.createElement('div');\n",
              "        docLink.innerHTML = docLinkHtml;\n",
              "        element.appendChild(docLink);\n",
              "      }\n",
              "    </script>\n",
              "  </div>\n",
              "\n",
              "\n",
              "<div id=\"df-ccd2d4a7-c308-465b-859e-b15a1e6935b6\">\n",
              "  <button class=\"colab-df-quickchart\" onclick=\"quickchart('df-ccd2d4a7-c308-465b-859e-b15a1e6935b6')\"\n",
              "            title=\"Suggest charts\"\n",
              "            style=\"display:none;\">\n",
              "\n",
              "<svg xmlns=\"http://www.w3.org/2000/svg\" height=\"24px\"viewBox=\"0 0 24 24\"\n",
              "     width=\"24px\">\n",
              "    <g>\n",
              "        <path d=\"M19 3H5c-1.1 0-2 .9-2 2v14c0 1.1.9 2 2 2h14c1.1 0 2-.9 2-2V5c0-1.1-.9-2-2-2zM9 17H7v-7h2v7zm4 0h-2V7h2v10zm4 0h-2v-4h2v4z\"/>\n",
              "    </g>\n",
              "</svg>\n",
              "  </button>\n",
              "\n",
              "<style>\n",
              "  .colab-df-quickchart {\n",
              "      --bg-color: #E8F0FE;\n",
              "      --fill-color: #1967D2;\n",
              "      --hover-bg-color: #E2EBFA;\n",
              "      --hover-fill-color: #174EA6;\n",
              "      --disabled-fill-color: #AAA;\n",
              "      --disabled-bg-color: #DDD;\n",
              "  }\n",
              "\n",
              "  [theme=dark] .colab-df-quickchart {\n",
              "      --bg-color: #3B4455;\n",
              "      --fill-color: #D2E3FC;\n",
              "      --hover-bg-color: #434B5C;\n",
              "      --hover-fill-color: #FFFFFF;\n",
              "      --disabled-bg-color: #3B4455;\n",
              "      --disabled-fill-color: #666;\n",
              "  }\n",
              "\n",
              "  .colab-df-quickchart {\n",
              "    background-color: var(--bg-color);\n",
              "    border: none;\n",
              "    border-radius: 50%;\n",
              "    cursor: pointer;\n",
              "    display: none;\n",
              "    fill: var(--fill-color);\n",
              "    height: 32px;\n",
              "    padding: 0;\n",
              "    width: 32px;\n",
              "  }\n",
              "\n",
              "  .colab-df-quickchart:hover {\n",
              "    background-color: var(--hover-bg-color);\n",
              "    box-shadow: 0 1px 2px rgba(60, 64, 67, 0.3), 0 1px 3px 1px rgba(60, 64, 67, 0.15);\n",
              "    fill: var(--button-hover-fill-color);\n",
              "  }\n",
              "\n",
              "  .colab-df-quickchart-complete:disabled,\n",
              "  .colab-df-quickchart-complete:disabled:hover {\n",
              "    background-color: var(--disabled-bg-color);\n",
              "    fill: var(--disabled-fill-color);\n",
              "    box-shadow: none;\n",
              "  }\n",
              "\n",
              "  .colab-df-spinner {\n",
              "    border: 2px solid var(--fill-color);\n",
              "    border-color: transparent;\n",
              "    border-bottom-color: var(--fill-color);\n",
              "    animation:\n",
              "      spin 1s steps(1) infinite;\n",
              "  }\n",
              "\n",
              "  @keyframes spin {\n",
              "    0% {\n",
              "      border-color: transparent;\n",
              "      border-bottom-color: var(--fill-color);\n",
              "      border-left-color: var(--fill-color);\n",
              "    }\n",
              "    20% {\n",
              "      border-color: transparent;\n",
              "      border-left-color: var(--fill-color);\n",
              "      border-top-color: var(--fill-color);\n",
              "    }\n",
              "    30% {\n",
              "      border-color: transparent;\n",
              "      border-left-color: var(--fill-color);\n",
              "      border-top-color: var(--fill-color);\n",
              "      border-right-color: var(--fill-color);\n",
              "    }\n",
              "    40% {\n",
              "      border-color: transparent;\n",
              "      border-right-color: var(--fill-color);\n",
              "      border-top-color: var(--fill-color);\n",
              "    }\n",
              "    60% {\n",
              "      border-color: transparent;\n",
              "      border-right-color: var(--fill-color);\n",
              "    }\n",
              "    80% {\n",
              "      border-color: transparent;\n",
              "      border-right-color: var(--fill-color);\n",
              "      border-bottom-color: var(--fill-color);\n",
              "    }\n",
              "    90% {\n",
              "      border-color: transparent;\n",
              "      border-bottom-color: var(--fill-color);\n",
              "    }\n",
              "  }\n",
              "</style>\n",
              "\n",
              "  <script>\n",
              "    async function quickchart(key) {\n",
              "      const quickchartButtonEl =\n",
              "        document.querySelector('#' + key + ' button');\n",
              "      quickchartButtonEl.disabled = true;  // To prevent multiple clicks.\n",
              "      quickchartButtonEl.classList.add('colab-df-spinner');\n",
              "      try {\n",
              "        const charts = await google.colab.kernel.invokeFunction(\n",
              "            'suggestCharts', [key], {});\n",
              "      } catch (error) {\n",
              "        console.error('Error during call to suggestCharts:', error);\n",
              "      }\n",
              "      quickchartButtonEl.classList.remove('colab-df-spinner');\n",
              "      quickchartButtonEl.classList.add('colab-df-quickchart-complete');\n",
              "    }\n",
              "    (() => {\n",
              "      let quickchartButtonEl =\n",
              "        document.querySelector('#df-ccd2d4a7-c308-465b-859e-b15a1e6935b6 button');\n",
              "      quickchartButtonEl.style.display =\n",
              "        google.colab.kernel.accessAllowed ? 'block' : 'none';\n",
              "    })();\n",
              "  </script>\n",
              "</div>\n",
              "\n",
              "  <div id=\"id_501116ed-80c6-4aa9-bf71-b8ab1759896c\">\n",
              "    <style>\n",
              "      .colab-df-generate {\n",
              "        background-color: #E8F0FE;\n",
              "        border: none;\n",
              "        border-radius: 50%;\n",
              "        cursor: pointer;\n",
              "        display: none;\n",
              "        fill: #1967D2;\n",
              "        height: 32px;\n",
              "        padding: 0 0 0 0;\n",
              "        width: 32px;\n",
              "      }\n",
              "\n",
              "      .colab-df-generate:hover {\n",
              "        background-color: #E2EBFA;\n",
              "        box-shadow: 0px 1px 2px rgba(60, 64, 67, 0.3), 0px 1px 3px 1px rgba(60, 64, 67, 0.15);\n",
              "        fill: #174EA6;\n",
              "      }\n",
              "\n",
              "      [theme=dark] .colab-df-generate {\n",
              "        background-color: #3B4455;\n",
              "        fill: #D2E3FC;\n",
              "      }\n",
              "\n",
              "      [theme=dark] .colab-df-generate:hover {\n",
              "        background-color: #434B5C;\n",
              "        box-shadow: 0px 1px 3px 1px rgba(0, 0, 0, 0.15);\n",
              "        filter: drop-shadow(0px 1px 2px rgba(0, 0, 0, 0.3));\n",
              "        fill: #FFFFFF;\n",
              "      }\n",
              "    </style>\n",
              "    <button class=\"colab-df-generate\" onclick=\"generateWithVariable('df_limpio')\"\n",
              "            title=\"Generate code using this dataframe.\"\n",
              "            style=\"display:none;\">\n",
              "\n",
              "  <svg xmlns=\"http://www.w3.org/2000/svg\" height=\"24px\"viewBox=\"0 0 24 24\"\n",
              "       width=\"24px\">\n",
              "    <path d=\"M7,19H8.4L18.45,9,17,7.55,7,17.6ZM5,21V16.75L18.45,3.32a2,2,0,0,1,2.83,0l1.4,1.43a1.91,1.91,0,0,1,.58,1.4,1.91,1.91,0,0,1-.58,1.4L9.25,21ZM18.45,9,17,7.55Zm-12,3A5.31,5.31,0,0,0,4.9,8.1,5.31,5.31,0,0,0,1,6.5,5.31,5.31,0,0,0,4.9,4.9,5.31,5.31,0,0,0,6.5,1,5.31,5.31,0,0,0,8.1,4.9,5.31,5.31,0,0,0,12,6.5,5.46,5.46,0,0,0,6.5,12Z\"/>\n",
              "  </svg>\n",
              "    </button>\n",
              "    <script>\n",
              "      (() => {\n",
              "      const buttonEl =\n",
              "        document.querySelector('#id_501116ed-80c6-4aa9-bf71-b8ab1759896c button.colab-df-generate');\n",
              "      buttonEl.style.display =\n",
              "        google.colab.kernel.accessAllowed ? 'block' : 'none';\n",
              "\n",
              "      buttonEl.onclick = () => {\n",
              "        google.colab.notebook.generateWithVariable('df_limpio');\n",
              "      }\n",
              "      })();\n",
              "    </script>\n",
              "  </div>\n",
              "\n",
              "    </div>\n",
              "  </div>\n"
            ],
            "application/vnd.google.colaboratory.intrinsic+json": {
              "type": "dataframe",
              "variable_name": "df_limpio",
              "summary": "{\n  \"name\": \"df_limpio\",\n  \"rows\": 7795,\n  \"fields\": [\n    {\n      \"column\": \"Review\",\n      \"properties\": {\n        \"dtype\": \"string\",\n        \"num_unique_values\": 7795,\n        \"samples\": [\n          \"Un lugar increible para los que nos gusta la historia una experiencia que no se puede dejar de hacer antes de irse de Mexico!\",\n          \"Hotel viejo, tiene 22 pisos y de los 4 elevadores solo 1 funcionaba (imaginense la odisea para poder utilizarlo) llevabamos un Sr. en silla de ruedas y las personas no daban campo fue nefasto (al menos 20 min se duraba para bajar del piso 7 al piso 1) La piscina bastante sucia.Y ni hablar de las sabanas de la cama un asco olian mal Los porteros tienen un negocio redondo con los taxistas e intentan robar a los turisticas, tuvimos que irnos del hotel hasta un supermercado a tomar taxi para que el precio fuera accesible es una total falta de profesionalismo de parte de esos porteros.\",\n          \"Si te gusta la historia o sitios arquitect\\u00f3nicos te encantar\\u00e1 esta. Hay pocos fuertes en esta condici\\u00f3n. Te dan una sensaci\\u00f3n real de Cartagena como lo era. Vale la pena visitar si est\\u00e1s en esas cosas, pero intenta ir temprano o cerca del atardecer ya que hace calor y hay poca sombra.\"\n        ],\n        \"semantic_type\": \"\",\n        \"description\": \"\"\n      }\n    },\n    {\n      \"column\": \"Class\",\n      \"properties\": {\n        \"dtype\": \"number\",\n        \"std\": 1,\n        \"min\": 1,\n        \"max\": 5,\n        \"num_unique_values\": 5,\n        \"samples\": [\n          3,\n          1,\n          4\n        ],\n        \"semantic_type\": \"\",\n        \"description\": \"\"\n      }\n    },\n    {\n      \"column\": \"Idioma\",\n      \"properties\": {\n        \"dtype\": \"category\",\n        \"num_unique_values\": 1,\n        \"samples\": [\n          \"es\"\n        ],\n        \"semantic_type\": \"\",\n        \"description\": \"\"\n      }\n    },\n    {\n      \"column\": \"Palabras\",\n      \"properties\": {\n        \"dtype\": \"object\",\n        \"semantic_type\": \"\",\n        \"description\": \"\"\n      }\n    }\n  ]\n}"
            }
          },
          "metadata": {},
          "execution_count": 151
        }
      ],
      "source": [
        "df_limpio"
      ]
    },
    {
      "cell_type": "markdown",
      "metadata": {
        "id": "y9ztzOvrR-kz"
      },
      "source": [
        "Se observa que se eliminan alrededor de 0.01% de las filas del dataframe original, lo que representa un valor insignificante."
      ]
    },
    {
      "cell_type": "markdown",
      "metadata": {
        "id": "rilWiWYPpovI"
      },
      "source": [
        "### 3.3 Normalización"
      ]
    },
    {
      "cell_type": "markdown",
      "metadata": {
        "id": "e1gjWOTCMXFd"
      },
      "source": [
        "Se usa el modelo de español de la libreria Spacy para aplicar lematización a las reseñas. Al reemplazar la forma flexionada de las palabras por sus lemas correspondientes, los modelos deberán identificar las palabras más relevantes que determinan el sentimiento de las reseñas entre un vocabulario mucho más reducido."
      ]
    },
    {
      "cell_type": "code",
      "execution_count": 152,
      "metadata": {
        "id": "cp7nXwMVqOu6"
      },
      "outputs": [],
      "source": [
        "# Se carga el modelo de español de Spacy\n",
        "nlp_spacy_es = spacy.load(\"es_core_news_sm\")\n",
        "\n",
        "words_act = df_limpio['Palabras'].tolist()\n",
        "words_lemma = []\n",
        "\n",
        "for i in range(len(words_act)):\n",
        "  doc_es = nlp_spacy_es(\" \".join(words_act[i]))\n",
        "  doc_process = [lemma for lemma in [token.lemma_ for token in doc_es]]\n",
        "  words_lemma.append(doc_process)"
      ]
    },
    {
      "cell_type": "code",
      "execution_count": 153,
      "metadata": {
        "id": "PTtJgSeM58TJ",
        "colab": {
          "base_uri": "https://localhost:8080/",
          "height": 0
        },
        "outputId": "3d401e7e-9d39-4036-b808-ec04c1baabc4"
      },
      "outputs": [
        {
          "output_type": "execute_result",
          "data": {
            "text/plain": [
              "                                                 Review  Class Idioma  \\\n",
              "0     Muy buena atención y aclaración de dudas por p...      5     es   \n",
              "1     Buen hotel si están obligados a estar cerca de...      3     es   \n",
              "2     Es un lugar muy lindo para fotografías, visite...      5     es   \n",
              "3     Abusados con la factura de alimentos siempre s...      3     es   \n",
              "4     Tuvimos un par de personas en el grupo que rea...      3     es   \n",
              "...                                                 ...    ...    ...   \n",
              "7870  Me parece buen sistema, agiliza el transporte,...      4     es   \n",
              "7871  Fue una escapada de un día desde el complejo, ...      4     es   \n",
              "7872  La Plaza de la Revolución es un lugar emblemát...      3     es   \n",
              "7873  Es la segunda ocasión que me quedo en los cuar...      1     es   \n",
              "7874  Llegamos por casualidad a Los Mercaderes, un g...      5     es   \n",
              "\n",
              "                                               Palabras  \\\n",
              "0     [buena, atencion, aclaracion, dudas, parte, se...   \n",
              "1     [buen, hotel, si, estan, obligados, cerca, cen...   \n",
              "2     [lugar, lindo, fotografias, visiten, selina, m...   \n",
              "3     [abusados, factura, alimentos, siempre, echan,...   \n",
              "4     [par, personas, grupo, realmente, queriamos, c...   \n",
              "...                                                 ...   \n",
              "7870  [parece, buen, sistema, agiliza, transporte, c...   \n",
              "7871  [escapada, dia, complejo, grupo, turistas, hab...   \n",
              "7872  [plaza, revolucion, lugar, emblematico, identi...   \n",
              "7873  [segunda, ocasion, quedo, cuartos, area, jardi...   \n",
              "7874  [llegamos, casualidad, mercaderes, grupo, gran...   \n",
              "\n",
              "                                                  Lemma  \n",
              "0     buen atencion aclaracion duda parte senorito v...  \n",
              "1     buen hotel si estar obligado cerca centro conv...  \n",
              "2     lugar lindo fotografias visitir selina musico ...  \n",
              "3     abusado factura alimento siempre echar culpa i...  \n",
              "4     par persona grupo realmente querer comer cabri...  \n",
              "...                                                 ...  \n",
              "7870  parecer buen sistema agilizar transporte conec...  \n",
              "7871  escapar dia complejo grupo turista habiar guia...  \n",
              "7872  plaza revolucion lugar emblematico identifico ...  \n",
              "7873  segundo ocasion quedo cuartos areo jardin como...  \n",
              "7874  llegar casualidad mercader grupo grande varios...  \n",
              "\n",
              "[7795 rows x 5 columns]"
            ],
            "text/html": [
              "\n",
              "  <div id=\"df-22865a41-496f-434d-8f76-a94f7690b8ba\" class=\"colab-df-container\">\n",
              "    <div>\n",
              "<style scoped>\n",
              "    .dataframe tbody tr th:only-of-type {\n",
              "        vertical-align: middle;\n",
              "    }\n",
              "\n",
              "    .dataframe tbody tr th {\n",
              "        vertical-align: top;\n",
              "    }\n",
              "\n",
              "    .dataframe thead th {\n",
              "        text-align: right;\n",
              "    }\n",
              "</style>\n",
              "<table border=\"1\" class=\"dataframe\">\n",
              "  <thead>\n",
              "    <tr style=\"text-align: right;\">\n",
              "      <th></th>\n",
              "      <th>Review</th>\n",
              "      <th>Class</th>\n",
              "      <th>Idioma</th>\n",
              "      <th>Palabras</th>\n",
              "      <th>Lemma</th>\n",
              "    </tr>\n",
              "  </thead>\n",
              "  <tbody>\n",
              "    <tr>\n",
              "      <th>0</th>\n",
              "      <td>Muy buena atención y aclaración de dudas por p...</td>\n",
              "      <td>5</td>\n",
              "      <td>es</td>\n",
              "      <td>[buena, atencion, aclaracion, dudas, parte, se...</td>\n",
              "      <td>buen atencion aclaracion duda parte senorito v...</td>\n",
              "    </tr>\n",
              "    <tr>\n",
              "      <th>1</th>\n",
              "      <td>Buen hotel si están obligados a estar cerca de...</td>\n",
              "      <td>3</td>\n",
              "      <td>es</td>\n",
              "      <td>[buen, hotel, si, estan, obligados, cerca, cen...</td>\n",
              "      <td>buen hotel si estar obligado cerca centro conv...</td>\n",
              "    </tr>\n",
              "    <tr>\n",
              "      <th>2</th>\n",
              "      <td>Es un lugar muy lindo para fotografías, visite...</td>\n",
              "      <td>5</td>\n",
              "      <td>es</td>\n",
              "      <td>[lugar, lindo, fotografias, visiten, selina, m...</td>\n",
              "      <td>lugar lindo fotografias visitir selina musico ...</td>\n",
              "    </tr>\n",
              "    <tr>\n",
              "      <th>3</th>\n",
              "      <td>Abusados con la factura de alimentos siempre s...</td>\n",
              "      <td>3</td>\n",
              "      <td>es</td>\n",
              "      <td>[abusados, factura, alimentos, siempre, echan,...</td>\n",
              "      <td>abusado factura alimento siempre echar culpa i...</td>\n",
              "    </tr>\n",
              "    <tr>\n",
              "      <th>4</th>\n",
              "      <td>Tuvimos un par de personas en el grupo que rea...</td>\n",
              "      <td>3</td>\n",
              "      <td>es</td>\n",
              "      <td>[par, personas, grupo, realmente, queriamos, c...</td>\n",
              "      <td>par persona grupo realmente querer comer cabri...</td>\n",
              "    </tr>\n",
              "    <tr>\n",
              "      <th>...</th>\n",
              "      <td>...</td>\n",
              "      <td>...</td>\n",
              "      <td>...</td>\n",
              "      <td>...</td>\n",
              "      <td>...</td>\n",
              "    </tr>\n",
              "    <tr>\n",
              "      <th>7870</th>\n",
              "      <td>Me parece buen sistema, agiliza el transporte,...</td>\n",
              "      <td>4</td>\n",
              "      <td>es</td>\n",
              "      <td>[parece, buen, sistema, agiliza, transporte, c...</td>\n",
              "      <td>parecer buen sistema agilizar transporte conec...</td>\n",
              "    </tr>\n",
              "    <tr>\n",
              "      <th>7871</th>\n",
              "      <td>Fue una escapada de un día desde el complejo, ...</td>\n",
              "      <td>4</td>\n",
              "      <td>es</td>\n",
              "      <td>[escapada, dia, complejo, grupo, turistas, hab...</td>\n",
              "      <td>escapar dia complejo grupo turista habiar guia...</td>\n",
              "    </tr>\n",
              "    <tr>\n",
              "      <th>7872</th>\n",
              "      <td>La Plaza de la Revolución es un lugar emblemát...</td>\n",
              "      <td>3</td>\n",
              "      <td>es</td>\n",
              "      <td>[plaza, revolucion, lugar, emblematico, identi...</td>\n",
              "      <td>plaza revolucion lugar emblematico identifico ...</td>\n",
              "    </tr>\n",
              "    <tr>\n",
              "      <th>7873</th>\n",
              "      <td>Es la segunda ocasión que me quedo en los cuar...</td>\n",
              "      <td>1</td>\n",
              "      <td>es</td>\n",
              "      <td>[segunda, ocasion, quedo, cuartos, area, jardi...</td>\n",
              "      <td>segundo ocasion quedo cuartos areo jardin como...</td>\n",
              "    </tr>\n",
              "    <tr>\n",
              "      <th>7874</th>\n",
              "      <td>Llegamos por casualidad a Los Mercaderes, un g...</td>\n",
              "      <td>5</td>\n",
              "      <td>es</td>\n",
              "      <td>[llegamos, casualidad, mercaderes, grupo, gran...</td>\n",
              "      <td>llegar casualidad mercader grupo grande varios...</td>\n",
              "    </tr>\n",
              "  </tbody>\n",
              "</table>\n",
              "<p>7795 rows × 5 columns</p>\n",
              "</div>\n",
              "    <div class=\"colab-df-buttons\">\n",
              "\n",
              "  <div class=\"colab-df-container\">\n",
              "    <button class=\"colab-df-convert\" onclick=\"convertToInteractive('df-22865a41-496f-434d-8f76-a94f7690b8ba')\"\n",
              "            title=\"Convert this dataframe to an interactive table.\"\n",
              "            style=\"display:none;\">\n",
              "\n",
              "  <svg xmlns=\"http://www.w3.org/2000/svg\" height=\"24px\" viewBox=\"0 -960 960 960\">\n",
              "    <path d=\"M120-120v-720h720v720H120Zm60-500h600v-160H180v160Zm220 220h160v-160H400v160Zm0 220h160v-160H400v160ZM180-400h160v-160H180v160Zm440 0h160v-160H620v160ZM180-180h160v-160H180v160Zm440 0h160v-160H620v160Z\"/>\n",
              "  </svg>\n",
              "    </button>\n",
              "\n",
              "  <style>\n",
              "    .colab-df-container {\n",
              "      display:flex;\n",
              "      gap: 12px;\n",
              "    }\n",
              "\n",
              "    .colab-df-convert {\n",
              "      background-color: #E8F0FE;\n",
              "      border: none;\n",
              "      border-radius: 50%;\n",
              "      cursor: pointer;\n",
              "      display: none;\n",
              "      fill: #1967D2;\n",
              "      height: 32px;\n",
              "      padding: 0 0 0 0;\n",
              "      width: 32px;\n",
              "    }\n",
              "\n",
              "    .colab-df-convert:hover {\n",
              "      background-color: #E2EBFA;\n",
              "      box-shadow: 0px 1px 2px rgba(60, 64, 67, 0.3), 0px 1px 3px 1px rgba(60, 64, 67, 0.15);\n",
              "      fill: #174EA6;\n",
              "    }\n",
              "\n",
              "    .colab-df-buttons div {\n",
              "      margin-bottom: 4px;\n",
              "    }\n",
              "\n",
              "    [theme=dark] .colab-df-convert {\n",
              "      background-color: #3B4455;\n",
              "      fill: #D2E3FC;\n",
              "    }\n",
              "\n",
              "    [theme=dark] .colab-df-convert:hover {\n",
              "      background-color: #434B5C;\n",
              "      box-shadow: 0px 1px 3px 1px rgba(0, 0, 0, 0.15);\n",
              "      filter: drop-shadow(0px 1px 2px rgba(0, 0, 0, 0.3));\n",
              "      fill: #FFFFFF;\n",
              "    }\n",
              "  </style>\n",
              "\n",
              "    <script>\n",
              "      const buttonEl =\n",
              "        document.querySelector('#df-22865a41-496f-434d-8f76-a94f7690b8ba button.colab-df-convert');\n",
              "      buttonEl.style.display =\n",
              "        google.colab.kernel.accessAllowed ? 'block' : 'none';\n",
              "\n",
              "      async function convertToInteractive(key) {\n",
              "        const element = document.querySelector('#df-22865a41-496f-434d-8f76-a94f7690b8ba');\n",
              "        const dataTable =\n",
              "          await google.colab.kernel.invokeFunction('convertToInteractive',\n",
              "                                                    [key], {});\n",
              "        if (!dataTable) return;\n",
              "\n",
              "        const docLinkHtml = 'Like what you see? Visit the ' +\n",
              "          '<a target=\"_blank\" href=https://colab.research.google.com/notebooks/data_table.ipynb>data table notebook</a>'\n",
              "          + ' to learn more about interactive tables.';\n",
              "        element.innerHTML = '';\n",
              "        dataTable['output_type'] = 'display_data';\n",
              "        await google.colab.output.renderOutput(dataTable, element);\n",
              "        const docLink = document.createElement('div');\n",
              "        docLink.innerHTML = docLinkHtml;\n",
              "        element.appendChild(docLink);\n",
              "      }\n",
              "    </script>\n",
              "  </div>\n",
              "\n",
              "\n",
              "<div id=\"df-34cb541d-6066-44a6-ae0d-10dff125c5bb\">\n",
              "  <button class=\"colab-df-quickchart\" onclick=\"quickchart('df-34cb541d-6066-44a6-ae0d-10dff125c5bb')\"\n",
              "            title=\"Suggest charts\"\n",
              "            style=\"display:none;\">\n",
              "\n",
              "<svg xmlns=\"http://www.w3.org/2000/svg\" height=\"24px\"viewBox=\"0 0 24 24\"\n",
              "     width=\"24px\">\n",
              "    <g>\n",
              "        <path d=\"M19 3H5c-1.1 0-2 .9-2 2v14c0 1.1.9 2 2 2h14c1.1 0 2-.9 2-2V5c0-1.1-.9-2-2-2zM9 17H7v-7h2v7zm4 0h-2V7h2v10zm4 0h-2v-4h2v4z\"/>\n",
              "    </g>\n",
              "</svg>\n",
              "  </button>\n",
              "\n",
              "<style>\n",
              "  .colab-df-quickchart {\n",
              "      --bg-color: #E8F0FE;\n",
              "      --fill-color: #1967D2;\n",
              "      --hover-bg-color: #E2EBFA;\n",
              "      --hover-fill-color: #174EA6;\n",
              "      --disabled-fill-color: #AAA;\n",
              "      --disabled-bg-color: #DDD;\n",
              "  }\n",
              "\n",
              "  [theme=dark] .colab-df-quickchart {\n",
              "      --bg-color: #3B4455;\n",
              "      --fill-color: #D2E3FC;\n",
              "      --hover-bg-color: #434B5C;\n",
              "      --hover-fill-color: #FFFFFF;\n",
              "      --disabled-bg-color: #3B4455;\n",
              "      --disabled-fill-color: #666;\n",
              "  }\n",
              "\n",
              "  .colab-df-quickchart {\n",
              "    background-color: var(--bg-color);\n",
              "    border: none;\n",
              "    border-radius: 50%;\n",
              "    cursor: pointer;\n",
              "    display: none;\n",
              "    fill: var(--fill-color);\n",
              "    height: 32px;\n",
              "    padding: 0;\n",
              "    width: 32px;\n",
              "  }\n",
              "\n",
              "  .colab-df-quickchart:hover {\n",
              "    background-color: var(--hover-bg-color);\n",
              "    box-shadow: 0 1px 2px rgba(60, 64, 67, 0.3), 0 1px 3px 1px rgba(60, 64, 67, 0.15);\n",
              "    fill: var(--button-hover-fill-color);\n",
              "  }\n",
              "\n",
              "  .colab-df-quickchart-complete:disabled,\n",
              "  .colab-df-quickchart-complete:disabled:hover {\n",
              "    background-color: var(--disabled-bg-color);\n",
              "    fill: var(--disabled-fill-color);\n",
              "    box-shadow: none;\n",
              "  }\n",
              "\n",
              "  .colab-df-spinner {\n",
              "    border: 2px solid var(--fill-color);\n",
              "    border-color: transparent;\n",
              "    border-bottom-color: var(--fill-color);\n",
              "    animation:\n",
              "      spin 1s steps(1) infinite;\n",
              "  }\n",
              "\n",
              "  @keyframes spin {\n",
              "    0% {\n",
              "      border-color: transparent;\n",
              "      border-bottom-color: var(--fill-color);\n",
              "      border-left-color: var(--fill-color);\n",
              "    }\n",
              "    20% {\n",
              "      border-color: transparent;\n",
              "      border-left-color: var(--fill-color);\n",
              "      border-top-color: var(--fill-color);\n",
              "    }\n",
              "    30% {\n",
              "      border-color: transparent;\n",
              "      border-left-color: var(--fill-color);\n",
              "      border-top-color: var(--fill-color);\n",
              "      border-right-color: var(--fill-color);\n",
              "    }\n",
              "    40% {\n",
              "      border-color: transparent;\n",
              "      border-right-color: var(--fill-color);\n",
              "      border-top-color: var(--fill-color);\n",
              "    }\n",
              "    60% {\n",
              "      border-color: transparent;\n",
              "      border-right-color: var(--fill-color);\n",
              "    }\n",
              "    80% {\n",
              "      border-color: transparent;\n",
              "      border-right-color: var(--fill-color);\n",
              "      border-bottom-color: var(--fill-color);\n",
              "    }\n",
              "    90% {\n",
              "      border-color: transparent;\n",
              "      border-bottom-color: var(--fill-color);\n",
              "    }\n",
              "  }\n",
              "</style>\n",
              "\n",
              "  <script>\n",
              "    async function quickchart(key) {\n",
              "      const quickchartButtonEl =\n",
              "        document.querySelector('#' + key + ' button');\n",
              "      quickchartButtonEl.disabled = true;  // To prevent multiple clicks.\n",
              "      quickchartButtonEl.classList.add('colab-df-spinner');\n",
              "      try {\n",
              "        const charts = await google.colab.kernel.invokeFunction(\n",
              "            'suggestCharts', [key], {});\n",
              "      } catch (error) {\n",
              "        console.error('Error during call to suggestCharts:', error);\n",
              "      }\n",
              "      quickchartButtonEl.classList.remove('colab-df-spinner');\n",
              "      quickchartButtonEl.classList.add('colab-df-quickchart-complete');\n",
              "    }\n",
              "    (() => {\n",
              "      let quickchartButtonEl =\n",
              "        document.querySelector('#df-34cb541d-6066-44a6-ae0d-10dff125c5bb button');\n",
              "      quickchartButtonEl.style.display =\n",
              "        google.colab.kernel.accessAllowed ? 'block' : 'none';\n",
              "    })();\n",
              "  </script>\n",
              "</div>\n",
              "\n",
              "  <div id=\"id_66ced5f7-8052-4485-b850-9b7a49dfc347\">\n",
              "    <style>\n",
              "      .colab-df-generate {\n",
              "        background-color: #E8F0FE;\n",
              "        border: none;\n",
              "        border-radius: 50%;\n",
              "        cursor: pointer;\n",
              "        display: none;\n",
              "        fill: #1967D2;\n",
              "        height: 32px;\n",
              "        padding: 0 0 0 0;\n",
              "        width: 32px;\n",
              "      }\n",
              "\n",
              "      .colab-df-generate:hover {\n",
              "        background-color: #E2EBFA;\n",
              "        box-shadow: 0px 1px 2px rgba(60, 64, 67, 0.3), 0px 1px 3px 1px rgba(60, 64, 67, 0.15);\n",
              "        fill: #174EA6;\n",
              "      }\n",
              "\n",
              "      [theme=dark] .colab-df-generate {\n",
              "        background-color: #3B4455;\n",
              "        fill: #D2E3FC;\n",
              "      }\n",
              "\n",
              "      [theme=dark] .colab-df-generate:hover {\n",
              "        background-color: #434B5C;\n",
              "        box-shadow: 0px 1px 3px 1px rgba(0, 0, 0, 0.15);\n",
              "        filter: drop-shadow(0px 1px 2px rgba(0, 0, 0, 0.3));\n",
              "        fill: #FFFFFF;\n",
              "      }\n",
              "    </style>\n",
              "    <button class=\"colab-df-generate\" onclick=\"generateWithVariable('df_limpio')\"\n",
              "            title=\"Generate code using this dataframe.\"\n",
              "            style=\"display:none;\">\n",
              "\n",
              "  <svg xmlns=\"http://www.w3.org/2000/svg\" height=\"24px\"viewBox=\"0 0 24 24\"\n",
              "       width=\"24px\">\n",
              "    <path d=\"M7,19H8.4L18.45,9,17,7.55,7,17.6ZM5,21V16.75L18.45,3.32a2,2,0,0,1,2.83,0l1.4,1.43a1.91,1.91,0,0,1,.58,1.4,1.91,1.91,0,0,1-.58,1.4L9.25,21ZM18.45,9,17,7.55Zm-12,3A5.31,5.31,0,0,0,4.9,8.1,5.31,5.31,0,0,0,1,6.5,5.31,5.31,0,0,0,4.9,4.9,5.31,5.31,0,0,0,6.5,1,5.31,5.31,0,0,0,8.1,4.9,5.31,5.31,0,0,0,12,6.5,5.46,5.46,0,0,0,6.5,12Z\"/>\n",
              "  </svg>\n",
              "    </button>\n",
              "    <script>\n",
              "      (() => {\n",
              "      const buttonEl =\n",
              "        document.querySelector('#id_66ced5f7-8052-4485-b850-9b7a49dfc347 button.colab-df-generate');\n",
              "      buttonEl.style.display =\n",
              "        google.colab.kernel.accessAllowed ? 'block' : 'none';\n",
              "\n",
              "      buttonEl.onclick = () => {\n",
              "        google.colab.notebook.generateWithVariable('df_limpio');\n",
              "      }\n",
              "      })();\n",
              "    </script>\n",
              "  </div>\n",
              "\n",
              "    </div>\n",
              "  </div>\n"
            ],
            "application/vnd.google.colaboratory.intrinsic+json": {
              "type": "dataframe",
              "variable_name": "df_limpio",
              "summary": "{\n  \"name\": \"df_limpio\",\n  \"rows\": 7795,\n  \"fields\": [\n    {\n      \"column\": \"Review\",\n      \"properties\": {\n        \"dtype\": \"string\",\n        \"num_unique_values\": 7795,\n        \"samples\": [\n          \"Un lugar increible para los que nos gusta la historia una experiencia que no se puede dejar de hacer antes de irse de Mexico!\",\n          \"Hotel viejo, tiene 22 pisos y de los 4 elevadores solo 1 funcionaba (imaginense la odisea para poder utilizarlo) llevabamos un Sr. en silla de ruedas y las personas no daban campo fue nefasto (al menos 20 min se duraba para bajar del piso 7 al piso 1) La piscina bastante sucia.Y ni hablar de las sabanas de la cama un asco olian mal Los porteros tienen un negocio redondo con los taxistas e intentan robar a los turisticas, tuvimos que irnos del hotel hasta un supermercado a tomar taxi para que el precio fuera accesible es una total falta de profesionalismo de parte de esos porteros.\",\n          \"Si te gusta la historia o sitios arquitect\\u00f3nicos te encantar\\u00e1 esta. Hay pocos fuertes en esta condici\\u00f3n. Te dan una sensaci\\u00f3n real de Cartagena como lo era. Vale la pena visitar si est\\u00e1s en esas cosas, pero intenta ir temprano o cerca del atardecer ya que hace calor y hay poca sombra.\"\n        ],\n        \"semantic_type\": \"\",\n        \"description\": \"\"\n      }\n    },\n    {\n      \"column\": \"Class\",\n      \"properties\": {\n        \"dtype\": \"number\",\n        \"std\": 1,\n        \"min\": 1,\n        \"max\": 5,\n        \"num_unique_values\": 5,\n        \"samples\": [\n          3,\n          1,\n          4\n        ],\n        \"semantic_type\": \"\",\n        \"description\": \"\"\n      }\n    },\n    {\n      \"column\": \"Idioma\",\n      \"properties\": {\n        \"dtype\": \"category\",\n        \"num_unique_values\": 1,\n        \"samples\": [\n          \"es\"\n        ],\n        \"semantic_type\": \"\",\n        \"description\": \"\"\n      }\n    },\n    {\n      \"column\": \"Palabras\",\n      \"properties\": {\n        \"dtype\": \"object\",\n        \"semantic_type\": \"\",\n        \"description\": \"\"\n      }\n    },\n    {\n      \"column\": \"Lemma\",\n      \"properties\": {\n        \"dtype\": \"string\",\n        \"num_unique_values\": 7795,\n        \"samples\": [\n          \"lugar increible gustar historio experiencia poder dejar hacer ir \\u00e9l mexico\"\n        ],\n        \"semantic_type\": \"\",\n        \"description\": \"\"\n      }\n    }\n  ]\n}"
            }
          },
          "metadata": {},
          "execution_count": 153
        }
      ],
      "source": [
        "# Se crea una nueva columna con las reseñas lematizadas\n",
        "words_lemma = [\" \".join(review) for review in words_lemma]\n",
        "df_limpio['Lemma'] = words_lemma\n",
        "df_limpio"
      ]
    },
    {
      "cell_type": "markdown",
      "metadata": {
        "id": "eqUvyCHyoJgg"
      },
      "source": [
        "Se crea un archivo csv con el conjunto de datos limpio y preprado."
      ]
    },
    {
      "cell_type": "code",
      "execution_count": 154,
      "metadata": {
        "id": "9e60wQqnofAa"
      },
      "outputs": [],
      "source": [
        "df_limpio.to_csv('data/datos_limpios_y_preparados.csv', index=False)"
      ]
    },
    {
      "cell_type": "markdown",
      "metadata": {
        "id": "k0cMRY2NpqOG"
      },
      "source": [
        "### 3.4 Selección de campos"
      ]
    },
    {
      "cell_type": "markdown",
      "metadata": {
        "id": "g2WXjX0KOx55"
      },
      "source": [
        "Se seleccionará la columna de las reseñas lematizadas para la clasificación y se usará una representación Tf-idf para tener en cuenta la relevancia de las palabras que aparecen por etiqueta."
      ]
    },
    {
      "cell_type": "code",
      "execution_count": 155,
      "metadata": {
        "id": "xQSl7lam7NI9"
      },
      "outputs": [],
      "source": [
        "# Instanciando la clase que usará la representación Tf-idf\n",
        "tf_idf = TfidfVectorizer()\n",
        "\n",
        "# Transformando las reseñas a la representación Tf-idf\n",
        "X = tf_idf.fit_transform(words_lemma)\n",
        "y = df_limpio['Class'].values\n",
        "\n",
        "# Separando el conjunto de datos entre entrenamiento y test\n",
        "X_train, X_test, y_train, y_test = train_test_split(X, y, test_size=0.2, random_state=0)"
      ]
    },
    {
      "cell_type": "markdown",
      "metadata": {
        "id": "gHU2cEFUpOt5"
      },
      "source": [
        "## Modelado"
      ]
    },
    {
      "cell_type": "markdown",
      "metadata": {
        "id": "PYd4XqDeAxUG"
      },
      "source": [
        "### Algoritmo 1 (Naive Bayes) - Gabriel Dicelis"
      ]
    },
    {
      "cell_type": "code",
      "execution_count": null,
      "metadata": {
        "id": "BUeJxP4ZQr0_"
      },
      "outputs": [],
      "source": [
        "# Defining the Naive Bayes models for each representation\n",
        "nb_model = MultinomialNB()"
      ]
    },
    {
      "cell_type": "code",
      "execution_count": null,
      "metadata": {
        "colab": {
          "base_uri": "https://localhost:8080/",
          "height": 75
        },
        "id": "ioVFoRI_b04S",
        "outputId": "1bd4aa0e-e55c-4e7f-d467-883b40a230b5"
      },
      "outputs": [
        {
          "output_type": "execute_result",
          "data": {
            "text/plain": [
              "MultinomialNB()"
            ],
            "text/html": [
              "<style>#sk-container-id-2 {color: black;background-color: white;}#sk-container-id-2 pre{padding: 0;}#sk-container-id-2 div.sk-toggleable {background-color: white;}#sk-container-id-2 label.sk-toggleable__label {cursor: pointer;display: block;width: 100%;margin-bottom: 0;padding: 0.3em;box-sizing: border-box;text-align: center;}#sk-container-id-2 label.sk-toggleable__label-arrow:before {content: \"▸\";float: left;margin-right: 0.25em;color: #696969;}#sk-container-id-2 label.sk-toggleable__label-arrow:hover:before {color: black;}#sk-container-id-2 div.sk-estimator:hover label.sk-toggleable__label-arrow:before {color: black;}#sk-container-id-2 div.sk-toggleable__content {max-height: 0;max-width: 0;overflow: hidden;text-align: left;background-color: #f0f8ff;}#sk-container-id-2 div.sk-toggleable__content pre {margin: 0.2em;color: black;border-radius: 0.25em;background-color: #f0f8ff;}#sk-container-id-2 input.sk-toggleable__control:checked~div.sk-toggleable__content {max-height: 200px;max-width: 100%;overflow: auto;}#sk-container-id-2 input.sk-toggleable__control:checked~label.sk-toggleable__label-arrow:before {content: \"▾\";}#sk-container-id-2 div.sk-estimator input.sk-toggleable__control:checked~label.sk-toggleable__label {background-color: #d4ebff;}#sk-container-id-2 div.sk-label input.sk-toggleable__control:checked~label.sk-toggleable__label {background-color: #d4ebff;}#sk-container-id-2 input.sk-hidden--visually {border: 0;clip: rect(1px 1px 1px 1px);clip: rect(1px, 1px, 1px, 1px);height: 1px;margin: -1px;overflow: hidden;padding: 0;position: absolute;width: 1px;}#sk-container-id-2 div.sk-estimator {font-family: monospace;background-color: #f0f8ff;border: 1px dotted black;border-radius: 0.25em;box-sizing: border-box;margin-bottom: 0.5em;}#sk-container-id-2 div.sk-estimator:hover {background-color: #d4ebff;}#sk-container-id-2 div.sk-parallel-item::after {content: \"\";width: 100%;border-bottom: 1px solid gray;flex-grow: 1;}#sk-container-id-2 div.sk-label:hover label.sk-toggleable__label {background-color: #d4ebff;}#sk-container-id-2 div.sk-serial::before {content: \"\";position: absolute;border-left: 1px solid gray;box-sizing: border-box;top: 0;bottom: 0;left: 50%;z-index: 0;}#sk-container-id-2 div.sk-serial {display: flex;flex-direction: column;align-items: center;background-color: white;padding-right: 0.2em;padding-left: 0.2em;position: relative;}#sk-container-id-2 div.sk-item {position: relative;z-index: 1;}#sk-container-id-2 div.sk-parallel {display: flex;align-items: stretch;justify-content: center;background-color: white;position: relative;}#sk-container-id-2 div.sk-item::before, #sk-container-id-2 div.sk-parallel-item::before {content: \"\";position: absolute;border-left: 1px solid gray;box-sizing: border-box;top: 0;bottom: 0;left: 50%;z-index: -1;}#sk-container-id-2 div.sk-parallel-item {display: flex;flex-direction: column;z-index: 1;position: relative;background-color: white;}#sk-container-id-2 div.sk-parallel-item:first-child::after {align-self: flex-end;width: 50%;}#sk-container-id-2 div.sk-parallel-item:last-child::after {align-self: flex-start;width: 50%;}#sk-container-id-2 div.sk-parallel-item:only-child::after {width: 0;}#sk-container-id-2 div.sk-dashed-wrapped {border: 1px dashed gray;margin: 0 0.4em 0.5em 0.4em;box-sizing: border-box;padding-bottom: 0.4em;background-color: white;}#sk-container-id-2 div.sk-label label {font-family: monospace;font-weight: bold;display: inline-block;line-height: 1.2em;}#sk-container-id-2 div.sk-label-container {text-align: center;}#sk-container-id-2 div.sk-container {/* jupyter's `normalize.less` sets `[hidden] { display: none; }` but bootstrap.min.css set `[hidden] { display: none !important; }` so we also need the `!important` here to be able to override the default hidden behavior on the sphinx rendered scikit-learn.org. See: https://github.com/scikit-learn/scikit-learn/issues/21755 */display: inline-block !important;position: relative;}#sk-container-id-2 div.sk-text-repr-fallback {display: none;}</style><div id=\"sk-container-id-2\" class=\"sk-top-container\"><div class=\"sk-text-repr-fallback\"><pre>MultinomialNB()</pre><b>In a Jupyter environment, please rerun this cell to show the HTML representation or trust the notebook. <br />On GitHub, the HTML representation is unable to render, please try loading this page with nbviewer.org.</b></div><div class=\"sk-container\" hidden><div class=\"sk-item\"><div class=\"sk-estimator sk-toggleable\"><input class=\"sk-toggleable__control sk-hidden--visually\" id=\"sk-estimator-id-2\" type=\"checkbox\" checked><label for=\"sk-estimator-id-2\" class=\"sk-toggleable__label sk-toggleable__label-arrow\">MultinomialNB</label><div class=\"sk-toggleable__content\"><pre>MultinomialNB()</pre></div></div></div></div></div>"
            ]
          },
          "metadata": {},
          "execution_count": 35
        }
      ],
      "source": [
        "# Training both models\n",
        "nb_model.fit(X_train, y_train)"
      ]
    },
    {
      "cell_type": "code",
      "execution_count": null,
      "metadata": {
        "colab": {
          "base_uri": "https://localhost:8080/"
        },
        "id": "VJqg_XgFY_Yr",
        "outputId": "061882e2-69c6-4224-89d8-4c06fcb17592"
      },
      "outputs": [
        {
          "output_type": "stream",
          "name": "stdout",
          "text": [
            "Accuracy: 0.39448364336112896\n",
            "Precision: 0.4364305367639419\n",
            "Recall: 0.39448364336112896\n",
            "F1 Score: 0.3276860600575905\n"
          ]
        }
      ],
      "source": [
        "# Make predictions on the test set\n",
        "nb_y_pred = nb_model.predict(X_test)\n",
        "\n",
        "# Calculate accuracy\n",
        "accuracy = accuracy_score(y_test, nb_y_pred)\n",
        "\n",
        "# Calculate precision\n",
        "precision = precision_score(y_test, nb_y_pred, average='weighted')\n",
        "\n",
        "# Calculate recall\n",
        "recall = recall_score(y_test, nb_y_pred, average='weighted')\n",
        "\n",
        "# Calculate F1 score\n",
        "f1 = f1_score(y_test, nb_y_pred, average='weighted')\n",
        "\n",
        "print(\"Accuracy:\", accuracy)\n",
        "print(\"Precision:\", precision)\n",
        "print(\"Recall:\", recall)\n",
        "print(\"F1 Score:\", f1)"
      ]
    },
    {
      "cell_type": "code",
      "source": [
        "# Crear el histograma de las calificaciones\n",
        "plt.figure(figsize=(8, 6))\n",
        "plt.hist(y_test, bins=5, color='skyblue', edgecolor='black', alpha=0.7)\n",
        "plt.xlabel('Calificación')\n",
        "plt.ylabel('Frecuencia')\n",
        "plt.title('Histograma de Calificaciones de Reseñas de Hoteles')\n",
        "plt.xticks(range(1, 6))\n",
        "plt.grid(axis='y', linestyle='--', alpha=0.7)\n",
        "plt.show()"
      ],
      "metadata": {
        "colab": {
          "base_uri": "https://localhost:8080/",
          "height": 573
        },
        "id": "dUtOEnPKFdft",
        "outputId": "d3edd379-a121-477b-a485-b419a6d8b39a"
      },
      "execution_count": null,
      "outputs": [
        {
          "output_type": "display_data",
          "data": {
            "text/plain": [
              "<Figure size 800x600 with 1 Axes>"
            ],
            "image/png": "[encoded data removed]"
          },
          "metadata": {}
        }
      ]
    },
    {
      "cell_type": "markdown",
      "source": [
        "A partir del modelo de Naive Bayes se puede visualizar la importancia de las palabras en cuanto a las reseñas, esto se realiza mediante una función de que calcula las probabilidades logaritmicas de las palabras, luego se procede a calcular la importancia relativa como la diferencia entre el maximo y minimo de las probabilidades logaritmicas, se usa una gráfica de barras para representar las 10 palabras mas importantes.\n"
      ],
      "metadata": {
        "id": "RmLfllJoKjty"
      }
    },
    {
      "cell_type": "code",
      "source": [
        "features = tf_idf.get_feature_names_out()\n",
        "\n",
        "# Obtener las probabilidades logarítmicas de las palabras\n",
        "log_probabilities = nb_model.feature_log_prob_\n",
        "\n",
        "# Calcular la importancia relativa de las palabras (la diferencia entre las probabilidades máxima y mínima)\n",
        "feature_importance = log_probabilities.max(axis=0) - log_probabilities.min(axis=0)\n",
        "\n",
        "# Obtener los índices de las 10 palabras más importantes\n",
        "word_indices = np.argsort(feature_importance)[-10:]\n",
        "\n",
        "# Crear un gráfico de barras\n",
        "plt.figure(figsize=(10, 6))\n",
        "plt.barh(np.arange(len(word_indices)), feature_importance[word_indices], color='skyblue')\n",
        "plt.yticks(np.arange(len(word_indices)), [features[i] for i in word_indices])\n",
        "plt.xlabel('Importancia')\n",
        "plt.ylabel('Palabra')\n",
        "plt.title('Importancia de las palabras para caracterizar las reseñas (Naive Bayes)')\n",
        "plt.show()"
      ],
      "metadata": {
        "colab": {
          "base_uri": "https://localhost:8080/",
          "height": 573
        },
        "id": "bxTbBq8pJqin",
        "outputId": "742e51f9-fd32-41ef-8460-4cdca6acfc64"
      },
      "execution_count": null,
      "outputs": [
        {
          "output_type": "display_data",
          "data": {
            "text/plain": [
              "<Figure size 1000x600 with 1 Axes>"
            ],
            "image/png": "[encoded data removed]"
          },
          "metadata": {}
        }
      ]
    },
    {
      "cell_type": "markdown",
      "source": [
        "Para cumplir con los objetivos del negocio se crea una segunda iteración del modelo pero retirando los adjetivos, con el objetivo de explorar conceptos diferenciadores dentro de las reseñas"
      ],
      "metadata": {
        "id": "QW0Grcoch0Ns"
      }
    },
    {
      "cell_type": "code",
      "source": [
        "df_nb = df_limpio.copy()\n",
        "\n",
        "# Cargar el modelo de lenguaje en español de Spacy\n",
        "nlp_spacy_es = spacy.load(\"es_core_news_sm\")\n",
        "\n",
        "# Función para eliminar los adjetivos de una reseña lematizada\n",
        "def remove_adjectives(text):\n",
        "    doc = nlp_spacy_es(text)\n",
        "    lemmas_sin_adjetivos = [token.lemma_ for token in doc if token.pos_ != \"ADJ\"]\n",
        "    return \" \".join(lemmas_sin_adjetivos)\n",
        "\n",
        "# Aplicar la función a la columna \"Lemma\" y crear una nueva columna \"Lemma_sin_adjetivos\"\n",
        "df_nb['Lemma_sin_adjetivos'] = df_nb['Lemma'].apply(remove_adjectives)"
      ],
      "metadata": {
        "id": "A1Um7r23ivR1"
      },
      "execution_count": null,
      "outputs": []
    },
    {
      "cell_type": "code",
      "source": [
        "df_nb"
      ],
      "metadata": {
        "colab": {
          "base_uri": "https://localhost:8080/",
          "height": 667
        },
        "id": "tfduORx6uPdc",
        "outputId": "09e05ba5-b339-45d4-d527-fc620abb5985"
      },
      "execution_count": null,
      "outputs": [
        {
          "output_type": "execute_result",
          "data": {
            "text/plain": [
              "                                                 Review  Class Idioma  \\\n",
              "0     Muy buena atención y aclaración de dudas por p...      5     es   \n",
              "1     Buen hotel si están obligados a estar cerca de...      3     es   \n",
              "2     Es un lugar muy lindo para fotografías, visite...      5     es   \n",
              "3     Abusados con la factura de alimentos siempre s...      3     es   \n",
              "4     Tuvimos un par de personas en el grupo que rea...      3     es   \n",
              "...                                                 ...    ...    ...   \n",
              "7870  Me parece buen sistema, agiliza el transporte,...      4     es   \n",
              "7871  Fue una escapada de un día desde el complejo, ...      4     es   \n",
              "7872  La Plaza de la Revolución es un lugar emblemát...      3     es   \n",
              "7873  Es la segunda ocasión que me quedo en los cuar...      1     es   \n",
              "7874  Llegamos por casualidad a Los Mercaderes, un g...      5     es   \n",
              "\n",
              "                                               Palabras  \\\n",
              "0     [buena, atencion, aclaracion, dudas, parte, se...   \n",
              "1     [buen, hotel, si, estan, obligados, cerca, cen...   \n",
              "2     [lugar, lindo, fotografias, visiten, selina, m...   \n",
              "3     [abusados, factura, alimentos, siempre, echan,...   \n",
              "4     [par, personas, grupo, realmente, queriamos, c...   \n",
              "...                                                 ...   \n",
              "7870  [parece, buen, sistema, agiliza, transporte, c...   \n",
              "7871  [escapada, dia, complejo, grupo, turistas, hab...   \n",
              "7872  [plaza, revolucion, lugar, emblematico, identi...   \n",
              "7873  [segunda, ocasion, quedo, cuartos, area, jardi...   \n",
              "7874  [llegamos, casualidad, mercaderes, grupo, gran...   \n",
              "\n",
              "                                                  Lemma  \\\n",
              "0     buen atencion aclaracion duda parte senorito v...   \n",
              "1     buen hotel si estar obligado cerca centro conv...   \n",
              "2     lugar lindo fotografias visitir selina musico ...   \n",
              "3     abusado factura alimento siempre echar culpa i...   \n",
              "4     par persona grupo realmente querer comer cabri...   \n",
              "...                                                 ...   \n",
              "7870  parecer buen sistema agilizar transporte conec...   \n",
              "7871  escapar dia complejo grupo turista habiar guia...   \n",
              "7872  plaza revolucion lugar emblematico identifico ...   \n",
              "7873  segundo ocasion quedo cuartos areo jardin como...   \n",
              "7874  llegar casualidad mercader grupo grande varios...   \n",
              "\n",
              "                                    Lemma_sin_adjetivos  \n",
              "0     atencion aclaracion dudar parte castillo atent...  \n",
              "1     hotel si estar cerca centro convención necesit...  \n",
              "2       lugar fotografias visitir selina cerveza comida  \n",
              "3     factura alimento siempre echar culpa ir buscar...  \n",
              "4     par grupo realmente querer comer cabrito resto...  \n",
              "...                                                 ...  \n",
              "7870  parecer sistema agilizar transporte conecta me...  \n",
              "7871  escapar dia grupo habiar guia vez visitar tipo...  \n",
              "7872  plaza revolucion lugar habán partir mitad sigl...  \n",
              "7873  ocasion quedo cuartos areir comodo menos inter...  \n",
              "7874  llegar casualidad mercader grupo varios famili...  \n",
              "\n",
              "[7795 rows x 6 columns]"
            ],
            "text/html": [
              "\n",
              "  <div id=\"df-e9702012-7195-4663-a1eb-934ebdb5ccf9\" class=\"colab-df-container\">\n",
              "    <div>\n",
              "<style scoped>\n",
              "    .dataframe tbody tr th:only-of-type {\n",
              "        vertical-align: middle;\n",
              "    }\n",
              "\n",
              "    .dataframe tbody tr th {\n",
              "        vertical-align: top;\n",
              "    }\n",
              "\n",
              "    .dataframe thead th {\n",
              "        text-align: right;\n",
              "    }\n",
              "</style>\n",
              "<table border=\"1\" class=\"dataframe\">\n",
              "  <thead>\n",
              "    <tr style=\"text-align: right;\">\n",
              "      <th></th>\n",
              "      <th>Review</th>\n",
              "      <th>Class</th>\n",
              "      <th>Idioma</th>\n",
              "      <th>Palabras</th>\n",
              "      <th>Lemma</th>\n",
              "      <th>Lemma_sin_adjetivos</th>\n",
              "    </tr>\n",
              "  </thead>\n",
              "  <tbody>\n",
              "    <tr>\n",
              "      <th>0</th>\n",
              "      <td>Muy buena atención y aclaración de dudas por p...</td>\n",
              "      <td>5</td>\n",
              "      <td>es</td>\n",
              "      <td>[buena, atencion, aclaracion, dudas, parte, se...</td>\n",
              "      <td>buen atencion aclaracion duda parte senorito v...</td>\n",
              "      <td>atencion aclaracion dudar parte castillo atent...</td>\n",
              "    </tr>\n",
              "    <tr>\n",
              "      <th>1</th>\n",
              "      <td>Buen hotel si están obligados a estar cerca de...</td>\n",
              "      <td>3</td>\n",
              "      <td>es</td>\n",
              "      <td>[buen, hotel, si, estan, obligados, cerca, cen...</td>\n",
              "      <td>buen hotel si estar obligado cerca centro conv...</td>\n",
              "      <td>hotel si estar cerca centro convención necesit...</td>\n",
              "    </tr>\n",
              "    <tr>\n",
              "      <th>2</th>\n",
              "      <td>Es un lugar muy lindo para fotografías, visite...</td>\n",
              "      <td>5</td>\n",
              "      <td>es</td>\n",
              "      <td>[lugar, lindo, fotografias, visiten, selina, m...</td>\n",
              "      <td>lugar lindo fotografias visitir selina musico ...</td>\n",
              "      <td>lugar fotografias visitir selina cerveza comida</td>\n",
              "    </tr>\n",
              "    <tr>\n",
              "      <th>3</th>\n",
              "      <td>Abusados con la factura de alimentos siempre s...</td>\n",
              "      <td>3</td>\n",
              "      <td>es</td>\n",
              "      <td>[abusados, factura, alimentos, siempre, echan,...</td>\n",
              "      <td>abusado factura alimento siempre echar culpa i...</td>\n",
              "      <td>factura alimento siempre echar culpa ir buscar...</td>\n",
              "    </tr>\n",
              "    <tr>\n",
              "      <th>4</th>\n",
              "      <td>Tuvimos un par de personas en el grupo que rea...</td>\n",
              "      <td>3</td>\n",
              "      <td>es</td>\n",
              "      <td>[par, personas, grupo, realmente, queriamos, c...</td>\n",
              "      <td>par persona grupo realmente querer comer cabri...</td>\n",
              "      <td>par grupo realmente querer comer cabrito resto...</td>\n",
              "    </tr>\n",
              "    <tr>\n",
              "      <th>...</th>\n",
              "      <td>...</td>\n",
              "      <td>...</td>\n",
              "      <td>...</td>\n",
              "      <td>...</td>\n",
              "      <td>...</td>\n",
              "      <td>...</td>\n",
              "    </tr>\n",
              "    <tr>\n",
              "      <th>7870</th>\n",
              "      <td>Me parece buen sistema, agiliza el transporte,...</td>\n",
              "      <td>4</td>\n",
              "      <td>es</td>\n",
              "      <td>[parece, buen, sistema, agiliza, transporte, c...</td>\n",
              "      <td>parecer buen sistema agilizar transporte conec...</td>\n",
              "      <td>parecer sistema agilizar transporte conecta me...</td>\n",
              "    </tr>\n",
              "    <tr>\n",
              "      <th>7871</th>\n",
              "      <td>Fue una escapada de un día desde el complejo, ...</td>\n",
              "      <td>4</td>\n",
              "      <td>es</td>\n",
              "      <td>[escapada, dia, complejo, grupo, turistas, hab...</td>\n",
              "      <td>escapar dia complejo grupo turista habiar guia...</td>\n",
              "      <td>escapar dia grupo habiar guia vez visitar tipo...</td>\n",
              "    </tr>\n",
              "    <tr>\n",
              "      <th>7872</th>\n",
              "      <td>La Plaza de la Revolución es un lugar emblemát...</td>\n",
              "      <td>3</td>\n",
              "      <td>es</td>\n",
              "      <td>[plaza, revolucion, lugar, emblematico, identi...</td>\n",
              "      <td>plaza revolucion lugar emblematico identifico ...</td>\n",
              "      <td>plaza revolucion lugar habán partir mitad sigl...</td>\n",
              "    </tr>\n",
              "    <tr>\n",
              "      <th>7873</th>\n",
              "      <td>Es la segunda ocasión que me quedo en los cuar...</td>\n",
              "      <td>1</td>\n",
              "      <td>es</td>\n",
              "      <td>[segunda, ocasion, quedo, cuartos, area, jardi...</td>\n",
              "      <td>segundo ocasion quedo cuartos areo jardin como...</td>\n",
              "      <td>ocasion quedo cuartos areir comodo menos inter...</td>\n",
              "    </tr>\n",
              "    <tr>\n",
              "      <th>7874</th>\n",
              "      <td>Llegamos por casualidad a Los Mercaderes, un g...</td>\n",
              "      <td>5</td>\n",
              "      <td>es</td>\n",
              "      <td>[llegamos, casualidad, mercaderes, grupo, gran...</td>\n",
              "      <td>llegar casualidad mercader grupo grande varios...</td>\n",
              "      <td>llegar casualidad mercader grupo varios famili...</td>\n",
              "    </tr>\n",
              "  </tbody>\n",
              "</table>\n",
              "<p>7795 rows × 6 columns</p>\n",
              "</div>\n",
              "    <div class=\"colab-df-buttons\">\n",
              "\n",
              "  <div class=\"colab-df-container\">\n",
              "    <button class=\"colab-df-convert\" onclick=\"convertToInteractive('df-e9702012-7195-4663-a1eb-934ebdb5ccf9')\"\n",
              "            title=\"Convert this dataframe to an interactive table.\"\n",
              "            style=\"display:none;\">\n",
              "\n",
              "  <svg xmlns=\"http://www.w3.org/2000/svg\" height=\"24px\" viewBox=\"0 -960 960 960\">\n",
              "    <path d=\"M120-120v-720h720v720H120Zm60-500h600v-160H180v160Zm220 220h160v-160H400v160Zm0 220h160v-160H400v160ZM180-400h160v-160H180v160Zm440 0h160v-160H620v160ZM180-180h160v-160H180v160Zm440 0h160v-160H620v160Z\"/>\n",
              "  </svg>\n",
              "    </button>\n",
              "\n",
              "  <style>\n",
              "    .colab-df-container {\n",
              "      display:flex;\n",
              "      gap: 12px;\n",
              "    }\n",
              "\n",
              "    .colab-df-convert {\n",
              "      background-color: #E8F0FE;\n",
              "      border: none;\n",
              "      border-radius: 50%;\n",
              "      cursor: pointer;\n",
              "      display: none;\n",
              "      fill: #1967D2;\n",
              "      height: 32px;\n",
              "      padding: 0 0 0 0;\n",
              "      width: 32px;\n",
              "    }\n",
              "\n",
              "    .colab-df-convert:hover {\n",
              "      background-color: #E2EBFA;\n",
              "      box-shadow: 0px 1px 2px rgba(60, 64, 67, 0.3), 0px 1px 3px 1px rgba(60, 64, 67, 0.15);\n",
              "      fill: #174EA6;\n",
              "    }\n",
              "\n",
              "    .colab-df-buttons div {\n",
              "      margin-bottom: 4px;\n",
              "    }\n",
              "\n",
              "    [theme=dark] .colab-df-convert {\n",
              "      background-color: #3B4455;\n",
              "      fill: #D2E3FC;\n",
              "    }\n",
              "\n",
              "    [theme=dark] .colab-df-convert:hover {\n",
              "      background-color: #434B5C;\n",
              "      box-shadow: 0px 1px 3px 1px rgba(0, 0, 0, 0.15);\n",
              "      filter: drop-shadow(0px 1px 2px rgba(0, 0, 0, 0.3));\n",
              "      fill: #FFFFFF;\n",
              "    }\n",
              "  </style>\n",
              "\n",
              "    <script>\n",
              "      const buttonEl =\n",
              "        document.querySelector('#df-e9702012-7195-4663-a1eb-934ebdb5ccf9 button.colab-df-convert');\n",
              "      buttonEl.style.display =\n",
              "        google.colab.kernel.accessAllowed ? 'block' : 'none';\n",
              "\n",
              "      async function convertToInteractive(key) {\n",
              "        const element = document.querySelector('#df-e9702012-7195-4663-a1eb-934ebdb5ccf9');\n",
              "        const dataTable =\n",
              "          await google.colab.kernel.invokeFunction('convertToInteractive',\n",
              "                                                    [key], {});\n",
              "        if (!dataTable) return;\n",
              "\n",
              "        const docLinkHtml = 'Like what you see? Visit the ' +\n",
              "          '<a target=\"_blank\" href=https://colab.research.google.com/notebooks/data_table.ipynb>data table notebook</a>'\n",
              "          + ' to learn more about interactive tables.';\n",
              "        element.innerHTML = '';\n",
              "        dataTable['output_type'] = 'display_data';\n",
              "        await google.colab.output.renderOutput(dataTable, element);\n",
              "        const docLink = document.createElement('div');\n",
              "        docLink.innerHTML = docLinkHtml;\n",
              "        element.appendChild(docLink);\n",
              "      }\n",
              "    </script>\n",
              "  </div>\n",
              "\n",
              "\n",
              "<div id=\"df-b4391fb9-1886-4cc8-8272-334f6e734ce0\">\n",
              "  <button class=\"colab-df-quickchart\" onclick=\"quickchart('df-b4391fb9-1886-4cc8-8272-334f6e734ce0')\"\n",
              "            title=\"Suggest charts\"\n",
              "            style=\"display:none;\">\n",
              "\n",
              "<svg xmlns=\"http://www.w3.org/2000/svg\" height=\"24px\"viewBox=\"0 0 24 24\"\n",
              "     width=\"24px\">\n",
              "    <g>\n",
              "        <path d=\"M19 3H5c-1.1 0-2 .9-2 2v14c0 1.1.9 2 2 2h14c1.1 0 2-.9 2-2V5c0-1.1-.9-2-2-2zM9 17H7v-7h2v7zm4 0h-2V7h2v10zm4 0h-2v-4h2v4z\"/>\n",
              "    </g>\n",
              "</svg>\n",
              "  </button>\n",
              "\n",
              "<style>\n",
              "  .colab-df-quickchart {\n",
              "      --bg-color: #E8F0FE;\n",
              "      --fill-color: #1967D2;\n",
              "      --hover-bg-color: #E2EBFA;\n",
              "      --hover-fill-color: #174EA6;\n",
              "      --disabled-fill-color: #AAA;\n",
              "      --disabled-bg-color: #DDD;\n",
              "  }\n",
              "\n",
              "  [theme=dark] .colab-df-quickchart {\n",
              "      --bg-color: #3B4455;\n",
              "      --fill-color: #D2E3FC;\n",
              "      --hover-bg-color: #434B5C;\n",
              "      --hover-fill-color: #FFFFFF;\n",
              "      --disabled-bg-color: #3B4455;\n",
              "      --disabled-fill-color: #666;\n",
              "  }\n",
              "\n",
              "  .colab-df-quickchart {\n",
              "    background-color: var(--bg-color);\n",
              "    border: none;\n",
              "    border-radius: 50%;\n",
              "    cursor: pointer;\n",
              "    display: none;\n",
              "    fill: var(--fill-color);\n",
              "    height: 32px;\n",
              "    padding: 0;\n",
              "    width: 32px;\n",
              "  }\n",
              "\n",
              "  .colab-df-quickchart:hover {\n",
              "    background-color: var(--hover-bg-color);\n",
              "    box-shadow: 0 1px 2px rgba(60, 64, 67, 0.3), 0 1px 3px 1px rgba(60, 64, 67, 0.15);\n",
              "    fill: var(--button-hover-fill-color);\n",
              "  }\n",
              "\n",
              "  .colab-df-quickchart-complete:disabled,\n",
              "  .colab-df-quickchart-complete:disabled:hover {\n",
              "    background-color: var(--disabled-bg-color);\n",
              "    fill: var(--disabled-fill-color);\n",
              "    box-shadow: none;\n",
              "  }\n",
              "\n",
              "  .colab-df-spinner {\n",
              "    border: 2px solid var(--fill-color);\n",
              "    border-color: transparent;\n",
              "    border-bottom-color: var(--fill-color);\n",
              "    animation:\n",
              "      spin 1s steps(1) infinite;\n",
              "  }\n",
              "\n",
              "  @keyframes spin {\n",
              "    0% {\n",
              "      border-color: transparent;\n",
              "      border-bottom-color: var(--fill-color);\n",
              "      border-left-color: var(--fill-color);\n",
              "    }\n",
              "    20% {\n",
              "      border-color: transparent;\n",
              "      border-left-color: var(--fill-color);\n",
              "      border-top-color: var(--fill-color);\n",
              "    }\n",
              "    30% {\n",
              "      border-color: transparent;\n",
              "      border-left-color: var(--fill-color);\n",
              "      border-top-color: var(--fill-color);\n",
              "      border-right-color: var(--fill-color);\n",
              "    }\n",
              "    40% {\n",
              "      border-color: transparent;\n",
              "      border-right-color: var(--fill-color);\n",
              "      border-top-color: var(--fill-color);\n",
              "    }\n",
              "    60% {\n",
              "      border-color: transparent;\n",
              "      border-right-color: var(--fill-color);\n",
              "    }\n",
              "    80% {\n",
              "      border-color: transparent;\n",
              "      border-right-color: var(--fill-color);\n",
              "      border-bottom-color: var(--fill-color);\n",
              "    }\n",
              "    90% {\n",
              "      border-color: transparent;\n",
              "      border-bottom-color: var(--fill-color);\n",
              "    }\n",
              "  }\n",
              "</style>\n",
              "\n",
              "  <script>\n",
              "    async function quickchart(key) {\n",
              "      const quickchartButtonEl =\n",
              "        document.querySelector('#' + key + ' button');\n",
              "      quickchartButtonEl.disabled = true;  // To prevent multiple clicks.\n",
              "      quickchartButtonEl.classList.add('colab-df-spinner');\n",
              "      try {\n",
              "        const charts = await google.colab.kernel.invokeFunction(\n",
              "            'suggestCharts', [key], {});\n",
              "      } catch (error) {\n",
              "        console.error('Error during call to suggestCharts:', error);\n",
              "      }\n",
              "      quickchartButtonEl.classList.remove('colab-df-spinner');\n",
              "      quickchartButtonEl.classList.add('colab-df-quickchart-complete');\n",
              "    }\n",
              "    (() => {\n",
              "      let quickchartButtonEl =\n",
              "        document.querySelector('#df-b4391fb9-1886-4cc8-8272-334f6e734ce0 button');\n",
              "      quickchartButtonEl.style.display =\n",
              "        google.colab.kernel.accessAllowed ? 'block' : 'none';\n",
              "    })();\n",
              "  </script>\n",
              "</div>\n",
              "\n",
              "  <div id=\"id_7b80c0b7-912d-4617-9ba2-73b4e3d223e7\">\n",
              "    <style>\n",
              "      .colab-df-generate {\n",
              "        background-color: #E8F0FE;\n",
              "        border: none;\n",
              "        border-radius: 50%;\n",
              "        cursor: pointer;\n",
              "        display: none;\n",
              "        fill: #1967D2;\n",
              "        height: 32px;\n",
              "        padding: 0 0 0 0;\n",
              "        width: 32px;\n",
              "      }\n",
              "\n",
              "      .colab-df-generate:hover {\n",
              "        background-color: #E2EBFA;\n",
              "        box-shadow: 0px 1px 2px rgba(60, 64, 67, 0.3), 0px 1px 3px 1px rgba(60, 64, 67, 0.15);\n",
              "        fill: #174EA6;\n",
              "      }\n",
              "\n",
              "      [theme=dark] .colab-df-generate {\n",
              "        background-color: #3B4455;\n",
              "        fill: #D2E3FC;\n",
              "      }\n",
              "\n",
              "      [theme=dark] .colab-df-generate:hover {\n",
              "        background-color: #434B5C;\n",
              "        box-shadow: 0px 1px 3px 1px rgba(0, 0, 0, 0.15);\n",
              "        filter: drop-shadow(0px 1px 2px rgba(0, 0, 0, 0.3));\n",
              "        fill: #FFFFFF;\n",
              "      }\n",
              "    </style>\n",
              "    <button class=\"colab-df-generate\" onclick=\"generateWithVariable('df_nb')\"\n",
              "            title=\"Generate code using this dataframe.\"\n",
              "            style=\"display:none;\">\n",
              "\n",
              "  <svg xmlns=\"http://www.w3.org/2000/svg\" height=\"24px\"viewBox=\"0 0 24 24\"\n",
              "       width=\"24px\">\n",
              "    <path d=\"M7,19H8.4L18.45,9,17,7.55,7,17.6ZM5,21V16.75L18.45,3.32a2,2,0,0,1,2.83,0l1.4,1.43a1.91,1.91,0,0,1,.58,1.4,1.91,1.91,0,0,1-.58,1.4L9.25,21ZM18.45,9,17,7.55Zm-12,3A5.31,5.31,0,0,0,4.9,8.1,5.31,5.31,0,0,0,1,6.5,5.31,5.31,0,0,0,4.9,4.9,5.31,5.31,0,0,0,6.5,1,5.31,5.31,0,0,0,8.1,4.9,5.31,5.31,0,0,0,12,6.5,5.46,5.46,0,0,0,6.5,12Z\"/>\n",
              "  </svg>\n",
              "    </button>\n",
              "    <script>\n",
              "      (() => {\n",
              "      const buttonEl =\n",
              "        document.querySelector('#id_7b80c0b7-912d-4617-9ba2-73b4e3d223e7 button.colab-df-generate');\n",
              "      buttonEl.style.display =\n",
              "        google.colab.kernel.accessAllowed ? 'block' : 'none';\n",
              "\n",
              "      buttonEl.onclick = () => {\n",
              "        google.colab.notebook.generateWithVariable('df_nb');\n",
              "      }\n",
              "      })();\n",
              "    </script>\n",
              "  </div>\n",
              "\n",
              "    </div>\n",
              "  </div>\n"
            ],
            "application/vnd.google.colaboratory.intrinsic+json": {
              "type": "dataframe",
              "variable_name": "df_nb",
              "summary": "{\n  \"name\": \"df_nb\",\n  \"rows\": 7795,\n  \"fields\": [\n    {\n      \"column\": \"Review\",\n      \"properties\": {\n        \"dtype\": \"string\",\n        \"num_unique_values\": 7795,\n        \"samples\": [\n          \"Un lugar increible para los que nos gusta la historia una experiencia que no se puede dejar de hacer antes de irse de Mexico!\",\n          \"Hotel viejo, tiene 22 pisos y de los 4 elevadores solo 1 funcionaba (imaginense la odisea para poder utilizarlo) llevabamos un Sr. en silla de ruedas y las personas no daban campo fue nefasto (al menos 20 min se duraba para bajar del piso 7 al piso 1) La piscina bastante sucia.Y ni hablar de las sabanas de la cama un asco olian mal Los porteros tienen un negocio redondo con los taxistas e intentan robar a los turisticas, tuvimos que irnos del hotel hasta un supermercado a tomar taxi para que el precio fuera accesible es una total falta de profesionalismo de parte de esos porteros.\",\n          \"Si te gusta la historia o sitios arquitect\\u00f3nicos te encantar\\u00e1 esta. Hay pocos fuertes en esta condici\\u00f3n. Te dan una sensaci\\u00f3n real de Cartagena como lo era. Vale la pena visitar si est\\u00e1s en esas cosas, pero intenta ir temprano o cerca del atardecer ya que hace calor y hay poca sombra.\"\n        ],\n        \"semantic_type\": \"\",\n        \"description\": \"\"\n      }\n    },\n    {\n      \"column\": \"Class\",\n      \"properties\": {\n        \"dtype\": \"number\",\n        \"std\": 1,\n        \"min\": 1,\n        \"max\": 5,\n        \"num_unique_values\": 5,\n        \"samples\": [\n          3,\n          1,\n          4\n        ],\n        \"semantic_type\": \"\",\n        \"description\": \"\"\n      }\n    },\n    {\n      \"column\": \"Idioma\",\n      \"properties\": {\n        \"dtype\": \"category\",\n        \"num_unique_values\": 1,\n        \"samples\": [\n          \"es\"\n        ],\n        \"semantic_type\": \"\",\n        \"description\": \"\"\n      }\n    },\n    {\n      \"column\": \"Palabras\",\n      \"properties\": {\n        \"dtype\": \"object\",\n        \"semantic_type\": \"\",\n        \"description\": \"\"\n      }\n    },\n    {\n      \"column\": \"Lemma\",\n      \"properties\": {\n        \"dtype\": \"string\",\n        \"num_unique_values\": 7795,\n        \"samples\": [\n          \"lugar increible gustar historio experiencia poder dejar hacer ir \\u00e9l mexico\"\n        ],\n        \"semantic_type\": \"\",\n        \"description\": \"\"\n      }\n    },\n    {\n      \"column\": \"Lemma_sin_adjetivos\",\n      \"properties\": {\n        \"dtype\": \"string\",\n        \"num_unique_values\": 7795,\n        \"samples\": [\n          \"lugar gustar experiencia poder dejar hacer ir \\u00e9l\"\n        ],\n        \"semantic_type\": \"\",\n        \"description\": \"\"\n      }\n    }\n  ]\n}"
            }
          },
          "metadata": {},
          "execution_count": 40
        }
      ]
    },
    {
      "cell_type": "markdown",
      "source": [
        "Despues de eliminar los adjetivos de vuelve a entrenar el modelo de Naive Bayes"
      ],
      "metadata": {
        "id": "lt7hnVDunK8A"
      }
    },
    {
      "cell_type": "code",
      "source": [
        "# Instanciando la clase que usará la representación Tf-idf\n",
        "tf_idf = TfidfVectorizer()\n",
        "\n",
        "# Transformando las reseñas a la representación Tf-idf\n",
        "Xnb2 = tf_idf.fit_transform(df_nb['Lemma_sin_adjetivos'])\n",
        "ynb2 = df_nb['Class'].values\n",
        "\n",
        "# Separando el conjunto de datos entre entrenamiento y test\n",
        "Xnb_train, Xnb_test, ynb_train, ynb_test = train_test_split(Xnb2, ynb2, test_size=0.2, random_state=0)\n",
        "\n",
        "# Defining the Naive Bayes models for each representation\n",
        "nb_model2 = MultinomialNB()\n",
        "\n",
        "# Training both models\n",
        "nb_model2.fit(Xnb_train, ynb_train)\n",
        "\n",
        "# Make predictions on the test set\n",
        "nb_y_pred = nb_model2.predict(Xnb_test)\n",
        "\n",
        "# Calculate accuracy\n",
        "accuracy = accuracy_score(ynb_test, nb_y_pred)\n",
        "\n",
        "# Calculate precision\n",
        "precision = precision_score(ynb_test, nb_y_pred, average='weighted')\n",
        "\n",
        "# Calculate recall\n",
        "recall = recall_score(ynb_test, nb_y_pred, average='weighted')\n",
        "\n",
        "# Calculate F1 score\n",
        "f1 = f1_score(ynb_test, nb_y_pred, average='weighted')\n",
        "\n",
        "print(\"Accuracy:\", accuracy)\n",
        "print(\"Precision:\", precision)\n",
        "print(\"Recall:\", recall)\n",
        "print(\"F1 Score:\", f1)"
      ],
      "metadata": {
        "colab": {
          "base_uri": "https://localhost:8080/"
        },
        "id": "xCYCwpA6nR04",
        "outputId": "556a4e85-9372-4a14-e65d-803f4e8d8ca5"
      },
      "execution_count": null,
      "outputs": [
        {
          "output_type": "stream",
          "name": "stdout",
          "text": [
            "Accuracy: 0.37716484926234767\n",
            "Precision: 0.43702406700561236\n",
            "Recall: 0.37716484926234767\n",
            "F1 Score: 0.3138138006882168\n"
          ]
        }
      ]
    },
    {
      "cell_type": "markdown",
      "source": [
        "Como se puede observar, la presición del modelo ha bajado ya que los adjetivos son bastante representativos para las calificaciones."
      ],
      "metadata": {
        "id": "pUkGO7KYnxDD"
      }
    },
    {
      "cell_type": "code",
      "source": [
        "# Obtener las probabilidades logarítmicas de las palabras\n",
        "log_probabilities = nb_model2.feature_log_prob_\n",
        "\n",
        "# Calcular la importancia relativa de las palabras (la diferencia entre las probabilidades máxima y mínima)\n",
        "feature_importance = log_probabilities.max(axis=0) - log_probabilities.min(axis=0)\n",
        "\n",
        "# Obtener los índices de las 10 palabras más importantes\n",
        "word_indices = np.argsort(feature_importance)[-10:]\n",
        "\n",
        "# Crear un gráfico de barras\n",
        "plt.figure(figsize=(10, 6))\n",
        "plt.barh(np.arange(len(word_indices)), feature_importance[word_indices], color='skyblue')\n",
        "plt.yticks(np.arange(len(word_indices)), [features[i] for i in word_indices])\n",
        "plt.xlabel('Importancia')\n",
        "plt.ylabel('Palabra')\n",
        "plt.title('Importancia de las palabras para caracterizar las reseñas (Naive Bayes)')\n",
        "plt.show()"
      ],
      "metadata": {
        "colab": {
          "base_uri": "https://localhost:8080/",
          "height": 573
        },
        "id": "1oMsJ_Xfn-bx",
        "outputId": "c97b80e3-57f4-4d4a-f8fc-f18a5f2c57b9"
      },
      "execution_count": null,
      "outputs": [
        {
          "output_type": "display_data",
          "data": {
            "text/plain": [
              "<Figure size 1000x600 with 1 Axes>"
            ],
            "image/png": "[encoded data removed]"
          },
          "metadata": {}
        }
      ]
    },
    {
      "cell_type": "markdown",
      "metadata": {
        "id": "zKbKpZgqHl9N"
      },
      "source": [
        "### Algoritmo 2 (Regresión Logística) - Juan Pablo Martínez"
      ]
    },
    {
      "cell_type": "code",
      "execution_count": null,
      "metadata": {
        "id": "_zK8tPoZF_i9"
      },
      "outputs": [],
      "source": [
        "# Creando el modelo\n",
        "lr_model = SGDClassifier(loss='log_loss', learning_rate='optimal', eta0=0.05)"
      ]
    },
    {
      "cell_type": "code",
      "execution_count": null,
      "metadata": {
        "colab": {
          "base_uri": "https://localhost:8080/",
          "height": 75
        },
        "id": "hDqqHzwQHXTL",
        "outputId": "267e038b-539f-48b6-e1ba-001920b344fa"
      },
      "outputs": [
        {
          "output_type": "execute_result",
          "data": {
            "text/plain": [
              "SGDClassifier(eta0=0.05, loss='log_loss')"
            ],
            "text/html": [
              "<style>#sk-container-id-3 {color: black;background-color: white;}#sk-container-id-3 pre{padding: 0;}#sk-container-id-3 div.sk-toggleable {background-color: white;}#sk-container-id-3 label.sk-toggleable__label {cursor: pointer;display: block;width: 100%;margin-bottom: 0;padding: 0.3em;box-sizing: border-box;text-align: center;}#sk-container-id-3 label.sk-toggleable__label-arrow:before {content: \"▸\";float: left;margin-right: 0.25em;color: #696969;}#sk-container-id-3 label.sk-toggleable__label-arrow:hover:before {color: black;}#sk-container-id-3 div.sk-estimator:hover label.sk-toggleable__label-arrow:before {color: black;}#sk-container-id-3 div.sk-toggleable__content {max-height: 0;max-width: 0;overflow: hidden;text-align: left;background-color: #f0f8ff;}#sk-container-id-3 div.sk-toggleable__content pre {margin: 0.2em;color: black;border-radius: 0.25em;background-color: #f0f8ff;}#sk-container-id-3 input.sk-toggleable__control:checked~div.sk-toggleable__content {max-height: 200px;max-width: 100%;overflow: auto;}#sk-container-id-3 input.sk-toggleable__control:checked~label.sk-toggleable__label-arrow:before {content: \"▾\";}#sk-container-id-3 div.sk-estimator input.sk-toggleable__control:checked~label.sk-toggleable__label {background-color: #d4ebff;}#sk-container-id-3 div.sk-label input.sk-toggleable__control:checked~label.sk-toggleable__label {background-color: #d4ebff;}#sk-container-id-3 input.sk-hidden--visually {border: 0;clip: rect(1px 1px 1px 1px);clip: rect(1px, 1px, 1px, 1px);height: 1px;margin: -1px;overflow: hidden;padding: 0;position: absolute;width: 1px;}#sk-container-id-3 div.sk-estimator {font-family: monospace;background-color: #f0f8ff;border: 1px dotted black;border-radius: 0.25em;box-sizing: border-box;margin-bottom: 0.5em;}#sk-container-id-3 div.sk-estimator:hover {background-color: #d4ebff;}#sk-container-id-3 div.sk-parallel-item::after {content: \"\";width: 100%;border-bottom: 1px solid gray;flex-grow: 1;}#sk-container-id-3 div.sk-label:hover label.sk-toggleable__label {background-color: #d4ebff;}#sk-container-id-3 div.sk-serial::before {content: \"\";position: absolute;border-left: 1px solid gray;box-sizing: border-box;top: 0;bottom: 0;left: 50%;z-index: 0;}#sk-container-id-3 div.sk-serial {display: flex;flex-direction: column;align-items: center;background-color: white;padding-right: 0.2em;padding-left: 0.2em;position: relative;}#sk-container-id-3 div.sk-item {position: relative;z-index: 1;}#sk-container-id-3 div.sk-parallel {display: flex;align-items: stretch;justify-content: center;background-color: white;position: relative;}#sk-container-id-3 div.sk-item::before, #sk-container-id-3 div.sk-parallel-item::before {content: \"\";position: absolute;border-left: 1px solid gray;box-sizing: border-box;top: 0;bottom: 0;left: 50%;z-index: -1;}#sk-container-id-3 div.sk-parallel-item {display: flex;flex-direction: column;z-index: 1;position: relative;background-color: white;}#sk-container-id-3 div.sk-parallel-item:first-child::after {align-self: flex-end;width: 50%;}#sk-container-id-3 div.sk-parallel-item:last-child::after {align-self: flex-start;width: 50%;}#sk-container-id-3 div.sk-parallel-item:only-child::after {width: 0;}#sk-container-id-3 div.sk-dashed-wrapped {border: 1px dashed gray;margin: 0 0.4em 0.5em 0.4em;box-sizing: border-box;padding-bottom: 0.4em;background-color: white;}#sk-container-id-3 div.sk-label label {font-family: monospace;font-weight: bold;display: inline-block;line-height: 1.2em;}#sk-container-id-3 div.sk-label-container {text-align: center;}#sk-container-id-3 div.sk-container {/* jupyter's `normalize.less` sets `[hidden] { display: none; }` but bootstrap.min.css set `[hidden] { display: none !important; }` so we also need the `!important` here to be able to override the default hidden behavior on the sphinx rendered scikit-learn.org. See: https://github.com/scikit-learn/scikit-learn/issues/21755 */display: inline-block !important;position: relative;}#sk-container-id-3 div.sk-text-repr-fallback {display: none;}</style><div id=\"sk-container-id-3\" class=\"sk-top-container\"><div class=\"sk-text-repr-fallback\"><pre>SGDClassifier(eta0=0.05, loss=&#x27;log_loss&#x27;)</pre><b>In a Jupyter environment, please rerun this cell to show the HTML representation or trust the notebook. <br />On GitHub, the HTML representation is unable to render, please try loading this page with nbviewer.org.</b></div><div class=\"sk-container\" hidden><div class=\"sk-item\"><div class=\"sk-estimator sk-toggleable\"><input class=\"sk-toggleable__control sk-hidden--visually\" id=\"sk-estimator-id-3\" type=\"checkbox\" checked><label for=\"sk-estimator-id-3\" class=\"sk-toggleable__label sk-toggleable__label-arrow\">SGDClassifier</label><div class=\"sk-toggleable__content\"><pre>SGDClassifier(eta0=0.05, loss=&#x27;log_loss&#x27;)</pre></div></div></div></div></div>"
            ]
          },
          "metadata": {},
          "execution_count": 44
        }
      ],
      "source": [
        "# Entrenando el modelo\n",
        "lr_model.fit(X_train, y_train)"
      ]
    },
    {
      "cell_type": "code",
      "execution_count": null,
      "metadata": {
        "colab": {
          "base_uri": "https://localhost:8080/"
        },
        "id": "JdlUX6IcIhP6",
        "outputId": "e0c953f4-4063-448e-f795-bdb2ade79a9c"
      },
      "outputs": [
        {
          "output_type": "stream",
          "name": "stdout",
          "text": [
            "Accuracy: 0.47851186658114175\n",
            "Precision: 0.4780629074139031\n",
            "Recall: 0.47851186658114175\n",
            "F1 Score: 0.4685905767359992\n"
          ]
        }
      ],
      "source": [
        "# Make predictions on the test set\n",
        "lr_y_pred = lr_model.predict(X_test)\n",
        "\n",
        "# Calculate accuracy\n",
        "accuracy = accuracy_score(y_test, lr_y_pred)\n",
        "\n",
        "# Calculate precision\n",
        "precision = precision_score(y_test, lr_y_pred, average='weighted')\n",
        "\n",
        "# Calculate recall\n",
        "recall = recall_score(y_test, lr_y_pred, average='weighted')\n",
        "\n",
        "# Calculate F1 score\n",
        "f1 = f1_score(y_test, lr_y_pred, average='weighted')\n",
        "\n",
        "print(\"Accuracy:\", accuracy)\n",
        "print(\"Precision:\", precision)\n",
        "print(\"Recall:\", recall)\n",
        "print(\"F1 Score:\", f1)"
      ]
    },
    {
      "cell_type": "markdown",
      "metadata": {
        "id": "_LuMar2DHifR"
      },
      "source": [
        "### Algoritmo 3 (SVM) - Laura Restrepo"
      ]
    },
    {
      "cell_type": "markdown",
      "source": [
        "SVM es un algoritmo usado para tareas de clasificación que permite separar datos en distintos grupos, útil para identificar caracterísitcas comunes o diferenciadoras dentro de los textos."
      ],
      "metadata": {
        "id": "w1jmpzZmcdSi"
      }
    },
    {
      "cell_type": "markdown",
      "source": [
        "#### Iteración 1"
      ],
      "metadata": {
        "id": "iT5FK0uLi399"
      }
    },
    {
      "cell_type": "markdown",
      "source": [
        "En esta primera iteración se creará un modelo sencillo para evaluar las métricas y resultados iniciales."
      ],
      "metadata": {
        "id": "Tf-S-7api7Kw"
      }
    },
    {
      "cell_type": "code",
      "execution_count": 156,
      "metadata": {
        "id": "9_gr2Ed8e2mA"
      },
      "outputs": [],
      "source": [
        "# Crear el modelo SVM\n",
        "svm_model = SVC(kernel='linear', random_state=42)"
      ]
    },
    {
      "cell_type": "code",
      "execution_count": 157,
      "metadata": {
        "colab": {
          "base_uri": "https://localhost:8080/",
          "height": 0
        },
        "id": "y-kGNxUse5jp",
        "outputId": "fea95169-f093-41c8-82e5-f3ed37462b2e"
      },
      "outputs": [
        {
          "output_type": "execute_result",
          "data": {
            "text/plain": [
              "SVC(kernel='linear', random_state=42)"
            ],
            "text/html": [
              "<style>#sk-container-id-10 {color: black;background-color: white;}#sk-container-id-10 pre{padding: 0;}#sk-container-id-10 div.sk-toggleable {background-color: white;}#sk-container-id-10 label.sk-toggleable__label {cursor: pointer;display: block;width: 100%;margin-bottom: 0;padding: 0.3em;box-sizing: border-box;text-align: center;}#sk-container-id-10 label.sk-toggleable__label-arrow:before {content: \"▸\";float: left;margin-right: 0.25em;color: #696969;}#sk-container-id-10 label.sk-toggleable__label-arrow:hover:before {color: black;}#sk-container-id-10 div.sk-estimator:hover label.sk-toggleable__label-arrow:before {color: black;}#sk-container-id-10 div.sk-toggleable__content {max-height: 0;max-width: 0;overflow: hidden;text-align: left;background-color: #f0f8ff;}#sk-container-id-10 div.sk-toggleable__content pre {margin: 0.2em;color: black;border-radius: 0.25em;background-color: #f0f8ff;}#sk-container-id-10 input.sk-toggleable__control:checked~div.sk-toggleable__content {max-height: 200px;max-width: 100%;overflow: auto;}#sk-container-id-10 input.sk-toggleable__control:checked~label.sk-toggleable__label-arrow:before {content: \"▾\";}#sk-container-id-10 div.sk-estimator input.sk-toggleable__control:checked~label.sk-toggleable__label {background-color: #d4ebff;}#sk-container-id-10 div.sk-label input.sk-toggleable__control:checked~label.sk-toggleable__label {background-color: #d4ebff;}#sk-container-id-10 input.sk-hidden--visually {border: 0;clip: rect(1px 1px 1px 1px);clip: rect(1px, 1px, 1px, 1px);height: 1px;margin: -1px;overflow: hidden;padding: 0;position: absolute;width: 1px;}#sk-container-id-10 div.sk-estimator {font-family: monospace;background-color: #f0f8ff;border: 1px dotted black;border-radius: 0.25em;box-sizing: border-box;margin-bottom: 0.5em;}#sk-container-id-10 div.sk-estimator:hover {background-color: #d4ebff;}#sk-container-id-10 div.sk-parallel-item::after {content: \"\";width: 100%;border-bottom: 1px solid gray;flex-grow: 1;}#sk-container-id-10 div.sk-label:hover label.sk-toggleable__label {background-color: #d4ebff;}#sk-container-id-10 div.sk-serial::before {content: \"\";position: absolute;border-left: 1px solid gray;box-sizing: border-box;top: 0;bottom: 0;left: 50%;z-index: 0;}#sk-container-id-10 div.sk-serial {display: flex;flex-direction: column;align-items: center;background-color: white;padding-right: 0.2em;padding-left: 0.2em;position: relative;}#sk-container-id-10 div.sk-item {position: relative;z-index: 1;}#sk-container-id-10 div.sk-parallel {display: flex;align-items: stretch;justify-content: center;background-color: white;position: relative;}#sk-container-id-10 div.sk-item::before, #sk-container-id-10 div.sk-parallel-item::before {content: \"\";position: absolute;border-left: 1px solid gray;box-sizing: border-box;top: 0;bottom: 0;left: 50%;z-index: -1;}#sk-container-id-10 div.sk-parallel-item {display: flex;flex-direction: column;z-index: 1;position: relative;background-color: white;}#sk-container-id-10 div.sk-parallel-item:first-child::after {align-self: flex-end;width: 50%;}#sk-container-id-10 div.sk-parallel-item:last-child::after {align-self: flex-start;width: 50%;}#sk-container-id-10 div.sk-parallel-item:only-child::after {width: 0;}#sk-container-id-10 div.sk-dashed-wrapped {border: 1px dashed gray;margin: 0 0.4em 0.5em 0.4em;box-sizing: border-box;padding-bottom: 0.4em;background-color: white;}#sk-container-id-10 div.sk-label label {font-family: monospace;font-weight: bold;display: inline-block;line-height: 1.2em;}#sk-container-id-10 div.sk-label-container {text-align: center;}#sk-container-id-10 div.sk-container {/* jupyter's `normalize.less` sets `[hidden] { display: none; }` but bootstrap.min.css set `[hidden] { display: none !important; }` so we also need the `!important` here to be able to override the default hidden behavior on the sphinx rendered scikit-learn.org. See: https://github.com/scikit-learn/scikit-learn/issues/21755 */display: inline-block !important;position: relative;}#sk-container-id-10 div.sk-text-repr-fallback {display: none;}</style><div id=\"sk-container-id-10\" class=\"sk-top-container\"><div class=\"sk-text-repr-fallback\"><pre>SVC(kernel=&#x27;linear&#x27;, random_state=42)</pre><b>In a Jupyter environment, please rerun this cell to show the HTML representation or trust the notebook. <br />On GitHub, the HTML representation is unable to render, please try loading this page with nbviewer.org.</b></div><div class=\"sk-container\" hidden><div class=\"sk-item\"><div class=\"sk-estimator sk-toggleable\"><input class=\"sk-toggleable__control sk-hidden--visually\" id=\"sk-estimator-id-10\" type=\"checkbox\" checked><label for=\"sk-estimator-id-10\" class=\"sk-toggleable__label sk-toggleable__label-arrow\">SVC</label><div class=\"sk-toggleable__content\"><pre>SVC(kernel=&#x27;linear&#x27;, random_state=42)</pre></div></div></div></div></div>"
            ]
          },
          "metadata": {},
          "execution_count": 157
        }
      ],
      "source": [
        "# Entrenar el modelo\n",
        "svm_model.fit(X_train, y_train)"
      ]
    },
    {
      "cell_type": "code",
      "execution_count": 158,
      "metadata": {
        "colab": {
          "base_uri": "https://localhost:8080/"
        },
        "id": "Jm-hvhGiax-t",
        "outputId": "f69ec2a7-d11d-44fd-9c54-ce23d6a980ed"
      },
      "outputs": [
        {
          "output_type": "stream",
          "name": "stdout",
          "text": [
            "Accuracy: 0.4836433611289288\n",
            "Precision: 0.4858411890321926\n",
            "Recall: 0.4836433611289288\n",
            "F1 Score: 0.48091387471624214\n"
          ]
        }
      ],
      "source": [
        "# Hacer predicciones en el conjunto de prueba\n",
        "svm_y_pred = svm_model.predict(X_test)\n",
        "\n",
        "# Calcular métricas de evaluación\n",
        "accuracy = accuracy_score(y_test, svm_y_pred)\n",
        "precision = precision_score(y_test, svm_y_pred, average='weighted')\n",
        "recall = recall_score(y_test, svm_y_pred, average='weighted')\n",
        "f1 = f1_score(y_test, svm_y_pred, average='weighted')\n",
        "\n",
        "# Imprimir métricas de evaluación\n",
        "print(\"Accuracy:\", accuracy)\n",
        "print(\"Precision:\", precision)\n",
        "print(\"Recall:\", recall)\n",
        "print(\"F1 Score:\", f1)"
      ]
    },
    {
      "cell_type": "markdown",
      "source": [
        "Las métricas obtenidas permite tener un modelo muestran un rendimiento moderado."
      ],
      "metadata": {
        "id": "5gUci8D2dcJr"
      }
    },
    {
      "cell_type": "code",
      "source": [
        "features = tf_idf.get_feature_names_out()\n",
        "\n",
        "# Obtener las características más importantes identificadas por SVM\n",
        "important_features = svm_model.coef_[0]\n",
        "\n",
        "# Convertir la matriz dispersa a un array NumPy y luego aplanar\n",
        "if hasattr(important_features, 'toarray'):\n",
        "    important_features = important_features.toarray()\n",
        "    important_features = important_features.ravel()\n",
        "\n",
        "# Obtener los índices de las 10 características más importantes\n",
        "word_indices = np.argsort(important_features)[-10:]\n",
        "word_importance = important_features[word_indices]\n",
        "\n",
        "# Crear un gráfico de barras\n",
        "plt.figure(figsize=(10, 6))\n",
        "plt.barh(np.arange(len(word_indices)), word_importance, color='skyblue')\n",
        "plt.yticks(np.arange(len(word_indices)), [features[i] for i in word_indices])\n",
        "plt.xlabel('Importancia')\n",
        "plt.ylabel('Palabra')\n",
        "plt.title('Importancia de las palabras para caracterizar las reseñas')\n",
        "plt.show()"
      ],
      "metadata": {
        "colab": {
          "base_uri": "https://localhost:8080/",
          "height": 0
        },
        "id": "fIma4ylxdnAG",
        "outputId": "57c24200-2576-45af-d5eb-3b983f0cb6f5"
      },
      "execution_count": 159,
      "outputs": [
        {
          "output_type": "display_data",
          "data": {
            "text/plain": [
              "<Figure size 1000x600 with 1 Axes>"
            ],
            "image/png": "[encoded data removed]"
          },
          "metadata": {}
        }
      ]
    },
    {
      "cell_type": "markdown",
      "source": [
        "#### Iteración 2"
      ],
      "metadata": {
        "id": "0YJCJaessIzQ"
      }
    },
    {
      "cell_type": "markdown",
      "source": [
        "En esta segunda iteración se explora el uso de hiperparámetros para mejorar las métricas."
      ],
      "metadata": {
        "id": "XQYsXI6nsJ7h"
      }
    },
    {
      "cell_type": "code",
      "source": [
        "df_svm2 = df_limpio.copy()"
      ],
      "metadata": {
        "id": "c2KACcTHyK3f"
      },
      "execution_count": 110,
      "outputs": []
    },
    {
      "cell_type": "code",
      "source": [
        "# Cargar el modelo de lenguaje en español de Spacy\n",
        "nlp_spacy_es = spacy.load(\"es_core_news_sm\")\n",
        "\n",
        "# Función para eliminar los adjetivos de una reseña lematizada\n",
        "def remove_adjectives(text):\n",
        "    doc = nlp_spacy_es(text)\n",
        "    lemmas_sin_adjetivos = [token.lemma_ for token in doc if token.pos_ != \"ADJ\"]\n",
        "    return \" \".join(lemmas_sin_adjetivos)\n",
        "\n",
        "# Aplicar la función a la columna \"Lemma\" y crear una nueva columna \"Lemma_sin_adjetivos\"\n",
        "df_svm2['Lemma_sin_adjetivos'] = df_svm2['Lemma'].apply(remove_adjectives)"
      ],
      "metadata": {
        "id": "puddZOgDsHV5"
      },
      "execution_count": 111,
      "outputs": []
    },
    {
      "cell_type": "code",
      "source": [
        "# Transformando las reseñas a la representación Tf-idf\n",
        "X = tf_idf.fit_transform(df_svm2['Lemma_sin_adjetivos'])\n",
        "y = df_svm2['Class'].values\n",
        "\n",
        "# Separando el conjunto de datos entre entrenamiento y test\n",
        "X_train, X_test, y_train, y_test = train_test_split(X, y, test_size=0.2, random_state=0)"
      ],
      "metadata": {
        "id": "6Y_vCOK9yy9F"
      },
      "execution_count": 112,
      "outputs": []
    },
    {
      "cell_type": "code",
      "source": [
        "# Crear el modelo SVM\n",
        "svm_model2 = SVC(kernel='linear', random_state=42)\n",
        "# Entrenar el modelo\n",
        "svm_model2.fit(X_train, y_train)\n",
        "# Hacer predicciones en el conjunto de prueba\n",
        "svm_y_pred2= svm_model2.predict(X_test)\n",
        "\n",
        "# Calcular métricas de evaluación\n",
        "accuracy = accuracy_score(y_test, svm_y_pred2)\n",
        "precision = precision_score(y_test, svm_y_pred2, average='weighted')\n",
        "recall = recall_score(y_test, svm_y_pred2, average='weighted')\n",
        "f1 = f1_score(y_test, svm_y_pred2, average='weighted')\n",
        "\n",
        "# Imprimir métricas de evaluación\n",
        "print(\"Accuracy:\", accuracy)\n",
        "print(\"Precision:\", precision)\n",
        "print(\"Recall:\", recall)\n",
        "print(\"F1 Score:\", f1)"
      ],
      "metadata": {
        "colab": {
          "base_uri": "https://localhost:8080/"
        },
        "id": "gDC5qCd0vOMj",
        "outputId": "5368ac44-c41e-4df7-b5bd-20a1a2b216d4"
      },
      "execution_count": 113,
      "outputs": [
        {
          "output_type": "stream",
          "name": "stdout",
          "text": [
            "Accuracy: 0.4239897370109044\n",
            "Precision: 0.4200647718820254\n",
            "Recall: 0.4239897370109044\n",
            "F1 Score: 0.41675729533210304\n"
          ]
        }
      ]
    },
    {
      "cell_type": "markdown",
      "source": [
        "Estas métricas se analizarán posteriormente."
      ],
      "metadata": {
        "id": "4mkFEYLH3pPj"
      }
    },
    {
      "cell_type": "code",
      "source": [
        "features = tf_idf.get_feature_names_out()\n",
        "\n",
        "# Obtener las características más importantes identificadas por SVM\n",
        "important_features = svm_model2.coef_[0]\n",
        "\n",
        "# Convertir la matriz dispersa a un array NumPy y luego aplanar\n",
        "if hasattr(important_features, 'toarray'):\n",
        "    important_features = important_features.toarray()\n",
        "    important_features = important_features.ravel()\n",
        "\n",
        "# Obtener los índices de las 10 características más importantes\n",
        "word_indices = np.argsort(important_features)[-10:]\n",
        "word_importance = important_features[word_indices]\n",
        "\n",
        "# Crear un gráfico de barras\n",
        "plt.figure(figsize=(10, 6))\n",
        "plt.barh(np.arange(len(word_indices)), word_importance, color='skyblue')\n",
        "plt.yticks(np.arange(len(word_indices)), [features[i] for i in word_indices])\n",
        "plt.xlabel('Importancia')\n",
        "plt.ylabel('Palabra')\n",
        "plt.title('Importancia de las palabras para caracterizar las reseñas')\n",
        "plt.show()"
      ],
      "metadata": {
        "colab": {
          "base_uri": "https://localhost:8080/",
          "height": 573
        },
        "id": "BAT1FxMixB7y",
        "outputId": "cda06218-764e-400e-8a19-310ba93c0d91"
      },
      "execution_count": 114,
      "outputs": [
        {
          "output_type": "display_data",
          "data": {
            "text/plain": [
              "<Figure size 1000x600 with 1 Axes>"
            ],
            "image/png": "[encoded data removed]"
          },
          "metadata": {}
        }
      ]
    },
    {
      "cell_type": "markdown",
      "source": [
        "A pesar de que se obtienen métricas un poco más bajas, se puede observar que las palabras tienen más sentido para los objetivos del neogocio."
      ],
      "metadata": {
        "id": "LwQTf0uOsRlC"
      }
    },
    {
      "cell_type": "markdown",
      "metadata": {
        "id": "c89SA5kMpMd6"
      },
      "source": [
        "## Algoritmo seleccionado"
      ]
    },
    {
      "cell_type": "markdown",
      "source": [
        "El algoritmo seleccionado es SVM, pues es el que mejor f1 score tuvo."
      ],
      "metadata": {
        "id": "y5BpUIfzBM5U"
      }
    },
    {
      "cell_type": "markdown",
      "source": [
        "A partir de ese modelo vamos a predecir la calificación de unas nuevas reseñas. Para ello, se cargarán los datos y se prepararán."
      ],
      "metadata": {
        "id": "Ks4tAX3jBRRP"
      }
    },
    {
      "cell_type": "code",
      "source": [
        "# Leer los datos de prueba\n",
        "df_reviews2 = pd.read_csv('data/particion_prueba_estudiantes.csv', sep=',', encoding=\"UTF-8\")\n",
        "\n",
        "# Aplicar corrección de contracciones\n",
        "df_reviews2['Review'] = df_reviews2['Review'].apply(contractions.fix)\n",
        "\n",
        "# Tokenización y preprocesamiento\n",
        "nlp_spacy_es = spacy.load(\"es_core_news_sm\")\n",
        "df_reviews2['Palabras'] = df_reviews2['Review'].apply(word_tokenize)\n",
        "\n",
        "# Lematización\n",
        "words_act = df_reviews2['Palabras'].tolist()\n",
        "words_lemma = []\n",
        "\n",
        "for i in range(len(words_act)):\n",
        "    doc_es = nlp_spacy_es(\" \".join(words_act[i]))\n",
        "    doc_process = [lemma for lemma in [token.lemma_ for token in doc_es]]\n",
        "    words_lemma.append(doc_process)\n",
        "\n",
        "# Crear una nueva columna con las reseñas lematizadas\n",
        "words_lemma = [\" \".join(review) for review in words_lemma]\n",
        "df_reviews2['Lemma'] = words_lemma\n",
        "\n",
        "# Cargar el vectorizador TF-IDF previamente entrenado\n",
        "tfidf_vectorizer = TfidfVectorizer()\n",
        "\n",
        "X_train = tfidf_vectorizer.fit_transform(df_limpio['Lemma'])\n",
        "\n",
        "# Preparar los datos de prueba\n",
        "X_test = tfidf_vectorizer.transform(df_reviews2['Lemma'])\n",
        "\n",
        "# Predecir la clasificación\n",
        "predictions = svm_model.predict(X_test)\n",
        "\n",
        "# Agregar la columna de clasificación predicha al DataFrame\n",
        "df_reviews2['Class'] = predictions\n",
        "\n",
        "# Mostrar las predicciones\n",
        "print(\"Predicciones:\")\n",
        "print(df_reviews2[['Review', 'Class']])"
      ],
      "metadata": {
        "colab": {
          "base_uri": "https://localhost:8080/"
        },
        "id": "K6AyoULvBgvB",
        "outputId": "448f1dd7-e197-4f48-c32a-a098b0724645"
      },
      "execution_count": 160,
      "outputs": [
        {
          "output_type": "stream",
          "name": "stdout",
          "text": [
            "Predicciones:\n",
            "                                                 Review  Class\n",
            "0     La primera noche nos encontramos en la habitac...      1\n",
            "1     A una calle de catedral con platillos tradicio...      4\n",
            "2     Porciones muy miserables\\nAgua con sabor a clo...      2\n",
            "3     Cartagena encanta. De todas las ciudades colon...      4\n",
            "4     Ibamos con mucha ilusion de disfrutar el espec...      3\n",
            "...                                                 ...    ...\n",
            "1745  Subir en funicular y bajar en teleferico fue u...      4\n",
            "1746  La gente espera el lugar central en La Habana,...      2\n",
            "1747  Todo excelente con el hotel: las albercas para...      5\n",
            "1748  Nos detuvimos en un bocado antes de la puesta ...      3\n",
            "1749  NO TENIA AGUA, el mantenimiento un desastre ( ...      2\n",
            "\n",
            "[1750 rows x 2 columns]\n"
          ]
        }
      ]
    },
    {
      "cell_type": "code",
      "source": [
        "df_reviews2.to_csv('data/particion_prueba_estudiantes_predicted.csv', index=False)"
      ],
      "metadata": {
        "id": "fsCnZCk0JOid"
      },
      "execution_count": 162,
      "outputs": []
    }
  ],
  "metadata": {
    "colab": {
      "provenance": []
    },
    "kernelspec": {
      "display_name": "Python 3",
      "name": "python3"
    },
    "language_info": {
      "name": "python"
    }
  },
  "nbformat": 4,
  "nbformat_minor": 0
}